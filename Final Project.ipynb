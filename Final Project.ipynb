{
 "cells": [
  {
   "cell_type": "code",
   "execution_count": 4,
   "metadata": {},
   "outputs": [],
   "source": [
    "#importing libraries\n",
    "import pandas as pd\n",
    "import numpy as np\n",
    "import matplotlib.pyplot as pt\n",
    "import seaborn as sns\n",
    "\n",
    "#libraries for label encoding\n",
    "from sklearn import preprocessing\n",
    "from sklearn.preprocessing import LabelEncoder\n",
    "\n",
    "#for feature selection \n",
    "from sklearn.ensemble import ExtraTreesClassifier\n",
    "\n",
    "#linear regression model\n",
    "from sklearn.linear_model import LinearRegression\n",
    "\n",
    "from sklearn.model_selection import train_test_split\n",
    "from sklearn import metrics  \n",
    "\n",
    "from scipy import stats\n",
    "\n",
    "#Random Forest Regressor model\n",
    "from sklearn.ensemble import RandomForestRegressor\n",
    "\n",
    "from sklearn.preprocessing import StandardScaler"
   ]
  },
  {
   "cell_type": "code",
   "execution_count": 5,
   "metadata": {},
   "outputs": [
    {
     "data": {
      "text/html": [
       "<div>\n",
       "<style scoped>\n",
       "    .dataframe tbody tr th:only-of-type {\n",
       "        vertical-align: middle;\n",
       "    }\n",
       "\n",
       "    .dataframe tbody tr th {\n",
       "        vertical-align: top;\n",
       "    }\n",
       "\n",
       "    .dataframe thead th {\n",
       "        text-align: right;\n",
       "    }\n",
       "</style>\n",
       "<table border=\"1\" class=\"dataframe\">\n",
       "  <thead>\n",
       "    <tr style=\"text-align: right;\">\n",
       "      <th></th>\n",
       "      <th>id</th>\n",
       "      <th>type</th>\n",
       "      <th>locality</th>\n",
       "      <th>activation_date</th>\n",
       "      <th>latitude</th>\n",
       "      <th>longitude</th>\n",
       "      <th>lease_type</th>\n",
       "      <th>gym</th>\n",
       "      <th>lift</th>\n",
       "      <th>swimming_pool</th>\n",
       "      <th>...</th>\n",
       "      <th>facing</th>\n",
       "      <th>cup_board</th>\n",
       "      <th>floor</th>\n",
       "      <th>total_floor</th>\n",
       "      <th>amenities</th>\n",
       "      <th>water_supply</th>\n",
       "      <th>building_type</th>\n",
       "      <th>balconies</th>\n",
       "      <th>rent</th>\n",
       "      <th>deposit</th>\n",
       "    </tr>\n",
       "  </thead>\n",
       "  <tbody>\n",
       "    <tr>\n",
       "      <th>0</th>\n",
       "      <td>ff8081815917971401591af8895032d0</td>\n",
       "      <td>BHK2</td>\n",
       "      <td>Jayanagara</td>\n",
       "      <td>2018-07-05 17:09:49</td>\n",
       "      <td>12.936601</td>\n",
       "      <td>77.576914</td>\n",
       "      <td>FAMILY</td>\n",
       "      <td>0</td>\n",
       "      <td>0</td>\n",
       "      <td>0</td>\n",
       "      <td>...</td>\n",
       "      <td>S</td>\n",
       "      <td>2.0</td>\n",
       "      <td>2</td>\n",
       "      <td>2.0</td>\n",
       "      <td>{\"LIFT\":false,\"GYM\":false,\"INTERNET\":false,\"AC...</td>\n",
       "      <td>CORP_BORE</td>\n",
       "      <td>IF</td>\n",
       "      <td>1.0</td>\n",
       "      <td>22000</td>\n",
       "      <td>220000.0</td>\n",
       "    </tr>\n",
       "    <tr>\n",
       "      <th>1</th>\n",
       "      <td>ff80818157dbe1fb0157dc4aa07513dc</td>\n",
       "      <td>BHK2</td>\n",
       "      <td>Basaveshwar Nagar</td>\n",
       "      <td>2017-12-30 17:22:12</td>\n",
       "      <td>12.997989</td>\n",
       "      <td>77.545219</td>\n",
       "      <td>FAMILY</td>\n",
       "      <td>0</td>\n",
       "      <td>0</td>\n",
       "      <td>0</td>\n",
       "      <td>...</td>\n",
       "      <td>W</td>\n",
       "      <td>2.0</td>\n",
       "      <td>0</td>\n",
       "      <td>1.0</td>\n",
       "      <td>{\"LIFT\":false,\"GYM\":false,\"INTERNET\":false,\"AC...</td>\n",
       "      <td>CORPORATION</td>\n",
       "      <td>IH</td>\n",
       "      <td>0.0</td>\n",
       "      <td>20000</td>\n",
       "      <td>200000.0</td>\n",
       "    </tr>\n",
       "    <tr>\n",
       "      <th>2</th>\n",
       "      <td>ff8081815d304406015d30edcd7c4f44</td>\n",
       "      <td>BHK3</td>\n",
       "      <td>Jaya Nagar East,Jayanagar</td>\n",
       "      <td>2017-07-11 15:42:05</td>\n",
       "      <td>12.935696</td>\n",
       "      <td>77.587642</td>\n",
       "      <td>FAMILY</td>\n",
       "      <td>0</td>\n",
       "      <td>1</td>\n",
       "      <td>0</td>\n",
       "      <td>...</td>\n",
       "      <td>E</td>\n",
       "      <td>3.0</td>\n",
       "      <td>4</td>\n",
       "      <td>9.0</td>\n",
       "      <td>{\"LIFT\":true,\"GYM\":false,\"INTERNET\":true,\"AC\":...</td>\n",
       "      <td>CORPORATION</td>\n",
       "      <td>AP</td>\n",
       "      <td>2.0</td>\n",
       "      <td>38000</td>\n",
       "      <td>250000.0</td>\n",
       "    </tr>\n",
       "    <tr>\n",
       "      <th>3</th>\n",
       "      <td>ff8081815b106986015b154d908f2ac2</td>\n",
       "      <td>BHK2</td>\n",
       "      <td>Murugeshpalya</td>\n",
       "      <td>2018-07-07 14:26:14</td>\n",
       "      <td>12.953507</td>\n",
       "      <td>77.656118</td>\n",
       "      <td>FAMILY</td>\n",
       "      <td>0</td>\n",
       "      <td>1</td>\n",
       "      <td>0</td>\n",
       "      <td>...</td>\n",
       "      <td>E</td>\n",
       "      <td>2.0</td>\n",
       "      <td>4</td>\n",
       "      <td>4.0</td>\n",
       "      <td>{\"LIFT\":true,\"GYM\":false,\"INTERNET\":true,\"AC\":...</td>\n",
       "      <td>BOREWELL</td>\n",
       "      <td>AP</td>\n",
       "      <td>1.0</td>\n",
       "      <td>30000</td>\n",
       "      <td>300000.0</td>\n",
       "    </tr>\n",
       "    <tr>\n",
       "      <th>4</th>\n",
       "      <td>ff8081815e80b789015e84a7a42a62a3</td>\n",
       "      <td>BHK2</td>\n",
       "      <td>Whitefield</td>\n",
       "      <td>2017-09-27 12:19:28</td>\n",
       "      <td>12.968520</td>\n",
       "      <td>77.742436</td>\n",
       "      <td>ANYONE</td>\n",
       "      <td>1</td>\n",
       "      <td>1</td>\n",
       "      <td>1</td>\n",
       "      <td>...</td>\n",
       "      <td>E</td>\n",
       "      <td>2.0</td>\n",
       "      <td>1</td>\n",
       "      <td>9.0</td>\n",
       "      <td>{\"LIFT\":true,\"GYM\":true,\"INTERNET\":true,\"AC\":f...</td>\n",
       "      <td>CORP_BORE</td>\n",
       "      <td>AP</td>\n",
       "      <td>2.0</td>\n",
       "      <td>26500</td>\n",
       "      <td>150000.0</td>\n",
       "    </tr>\n",
       "    <tr>\n",
       "      <th>5</th>\n",
       "      <td>ff80818162537f2d01625cfb76f37165</td>\n",
       "      <td>BHK2</td>\n",
       "      <td>HSR Layout</td>\n",
       "      <td>2018-03-25 18:15:19</td>\n",
       "      <td>12.921999</td>\n",
       "      <td>77.646238</td>\n",
       "      <td>FAMILY</td>\n",
       "      <td>0</td>\n",
       "      <td>0</td>\n",
       "      <td>0</td>\n",
       "      <td>...</td>\n",
       "      <td>N</td>\n",
       "      <td>2.0</td>\n",
       "      <td>1</td>\n",
       "      <td>4.0</td>\n",
       "      <td>{\"LIFT\":false,\"GYM\":false,\"INTERNET\":true,\"AC\"...</td>\n",
       "      <td>CORP_BORE</td>\n",
       "      <td>AP</td>\n",
       "      <td>3.0</td>\n",
       "      <td>30000</td>\n",
       "      <td>175000.0</td>\n",
       "    </tr>\n",
       "    <tr>\n",
       "      <th>6</th>\n",
       "      <td>ff80818160792cc001608ec7b922154a</td>\n",
       "      <td>BHK3</td>\n",
       "      <td>Harlur</td>\n",
       "      <td>2018-07-26 21:01:47</td>\n",
       "      <td>12.909958</td>\n",
       "      <td>77.674755</td>\n",
       "      <td>FAMILY</td>\n",
       "      <td>0</td>\n",
       "      <td>0</td>\n",
       "      <td>0</td>\n",
       "      <td>...</td>\n",
       "      <td>W</td>\n",
       "      <td>6.0</td>\n",
       "      <td>0</td>\n",
       "      <td>2.0</td>\n",
       "      <td>{\"LIFT\":false,\"GYM\":false,\"INTERNET\":false,\"AC...</td>\n",
       "      <td>BOREWELL</td>\n",
       "      <td>GC</td>\n",
       "      <td>2.0</td>\n",
       "      <td>35500</td>\n",
       "      <td>216000.0</td>\n",
       "    </tr>\n",
       "    <tr>\n",
       "      <th>7</th>\n",
       "      <td>ff8081815bb9ae79015bbd6aae9b03b1</td>\n",
       "      <td>BHK2</td>\n",
       "      <td>Vijaya Nagar</td>\n",
       "      <td>2018-05-19 13:12:15</td>\n",
       "      <td>12.964160</td>\n",
       "      <td>77.518935</td>\n",
       "      <td>FAMILY</td>\n",
       "      <td>0</td>\n",
       "      <td>0</td>\n",
       "      <td>0</td>\n",
       "      <td>...</td>\n",
       "      <td>W</td>\n",
       "      <td>2.0</td>\n",
       "      <td>0</td>\n",
       "      <td>3.0</td>\n",
       "      <td>{\"LIFT\":false,\"GYM\":false,\"INTERNET\":true,\"AC\"...</td>\n",
       "      <td>CORP_BORE</td>\n",
       "      <td>AP</td>\n",
       "      <td>1.0</td>\n",
       "      <td>15000</td>\n",
       "      <td>150000.0</td>\n",
       "    </tr>\n",
       "    <tr>\n",
       "      <th>8</th>\n",
       "      <td>ff808181622f11e901622f590ada0eb9</td>\n",
       "      <td>BHK1</td>\n",
       "      <td>Doddanekkundi</td>\n",
       "      <td>2018-03-20 17:58:57</td>\n",
       "      <td>12.970340</td>\n",
       "      <td>77.688801</td>\n",
       "      <td>FAMILY</td>\n",
       "      <td>0</td>\n",
       "      <td>0</td>\n",
       "      <td>0</td>\n",
       "      <td>...</td>\n",
       "      <td>E</td>\n",
       "      <td>1.0</td>\n",
       "      <td>1</td>\n",
       "      <td>3.0</td>\n",
       "      <td>{\"PARK\":false,\"HK\":false,\"LIFT\":false,\"PB\":fal...</td>\n",
       "      <td>CORPORATION</td>\n",
       "      <td>IH</td>\n",
       "      <td>1.0</td>\n",
       "      <td>11000</td>\n",
       "      <td>50000.0</td>\n",
       "    </tr>\n",
       "    <tr>\n",
       "      <th>9</th>\n",
       "      <td>ff8081815dad8e0f015db114d5f90716</td>\n",
       "      <td>BHK2</td>\n",
       "      <td>BTM 2nd Stage</td>\n",
       "      <td>2017-08-18 17:00:23</td>\n",
       "      <td>12.909464</td>\n",
       "      <td>77.609353</td>\n",
       "      <td>ANYONE</td>\n",
       "      <td>0</td>\n",
       "      <td>0</td>\n",
       "      <td>0</td>\n",
       "      <td>...</td>\n",
       "      <td>E</td>\n",
       "      <td>2.0</td>\n",
       "      <td>1</td>\n",
       "      <td>2.0</td>\n",
       "      <td>{\"LIFT\":false,\"GYM\":false,\"INTERNET\":true,\"AC\"...</td>\n",
       "      <td>CORPORATION</td>\n",
       "      <td>IF</td>\n",
       "      <td>1.0</td>\n",
       "      <td>14000</td>\n",
       "      <td>60000.0</td>\n",
       "    </tr>\n",
       "    <tr>\n",
       "      <th>10</th>\n",
       "      <td>ff8081816165ddca0161696bf0d4056a</td>\n",
       "      <td>BHK2</td>\n",
       "      <td>EPIP Zone,Whitefield</td>\n",
       "      <td>2018-02-06 12:41:03</td>\n",
       "      <td>12.972033</td>\n",
       "      <td>77.715336</td>\n",
       "      <td>ANYONE</td>\n",
       "      <td>1</td>\n",
       "      <td>1</td>\n",
       "      <td>1</td>\n",
       "      <td>...</td>\n",
       "      <td>N</td>\n",
       "      <td>2.0</td>\n",
       "      <td>3</td>\n",
       "      <td>4.0</td>\n",
       "      <td>{\"LIFT\":true,\"GYM\":true,\"INTERNET\":true,\"AC\":f...</td>\n",
       "      <td>CORP_BORE</td>\n",
       "      <td>AP</td>\n",
       "      <td>2.0</td>\n",
       "      <td>26000</td>\n",
       "      <td>150000.0</td>\n",
       "    </tr>\n",
       "    <tr>\n",
       "      <th>11</th>\n",
       "      <td>ff8081815c35329b015c357a6379201f</td>\n",
       "      <td>BHK2</td>\n",
       "      <td>Doddakannelli</td>\n",
       "      <td>2017-12-28 10:06:19</td>\n",
       "      <td>12.909807</td>\n",
       "      <td>77.705232</td>\n",
       "      <td>FAMILY</td>\n",
       "      <td>0</td>\n",
       "      <td>0</td>\n",
       "      <td>0</td>\n",
       "      <td>...</td>\n",
       "      <td>E</td>\n",
       "      <td>2.0</td>\n",
       "      <td>0</td>\n",
       "      <td>0.0</td>\n",
       "      <td>{\"LIFT\":false,\"GYM\":false,\"INTERNET\":true,\"AC\"...</td>\n",
       "      <td>BOREWELL</td>\n",
       "      <td>IH</td>\n",
       "      <td>0.0</td>\n",
       "      <td>12000</td>\n",
       "      <td>72000.0</td>\n",
       "    </tr>\n",
       "    <tr>\n",
       "      <th>12</th>\n",
       "      <td>ff80818154d230860154e1adf7715d48</td>\n",
       "      <td>BHK2</td>\n",
       "      <td>Whitefield Hope Farm Junction</td>\n",
       "      <td>2018-06-15 19:31:37</td>\n",
       "      <td>12.990748</td>\n",
       "      <td>77.719513</td>\n",
       "      <td>ANYONE</td>\n",
       "      <td>1</td>\n",
       "      <td>1</td>\n",
       "      <td>1</td>\n",
       "      <td>...</td>\n",
       "      <td>N</td>\n",
       "      <td>2.0</td>\n",
       "      <td>8</td>\n",
       "      <td>9.0</td>\n",
       "      <td>{\"LIFT\":true,\"GYM\":true,\"INTERNET\":true,\"AC\":f...</td>\n",
       "      <td>CORP_BORE</td>\n",
       "      <td>AP</td>\n",
       "      <td>3.0</td>\n",
       "      <td>27500</td>\n",
       "      <td>100000.0</td>\n",
       "    </tr>\n",
       "    <tr>\n",
       "      <th>13</th>\n",
       "      <td>ff8081815deb30c2015deead2ad13882</td>\n",
       "      <td>BHK2</td>\n",
       "      <td>Whitefield</td>\n",
       "      <td>2017-08-18 15:00:23</td>\n",
       "      <td>12.967221</td>\n",
       "      <td>77.754272</td>\n",
       "      <td>ANYONE</td>\n",
       "      <td>0</td>\n",
       "      <td>0</td>\n",
       "      <td>0</td>\n",
       "      <td>...</td>\n",
       "      <td>E</td>\n",
       "      <td>1.0</td>\n",
       "      <td>1</td>\n",
       "      <td>1.0</td>\n",
       "      <td>{\"LIFT\":false,\"GYM\":false,\"INTERNET\":false,\"AC...</td>\n",
       "      <td>CORP_BORE</td>\n",
       "      <td>IF</td>\n",
       "      <td>2.0</td>\n",
       "      <td>13000</td>\n",
       "      <td>40000.0</td>\n",
       "    </tr>\n",
       "    <tr>\n",
       "      <th>14</th>\n",
       "      <td>ff8081815c71b0d0015c71c37acc098a</td>\n",
       "      <td>BHK2</td>\n",
       "      <td>Raja Rajeshwari Nagar</td>\n",
       "      <td>2018-05-29 17:24:24</td>\n",
       "      <td>12.936000</td>\n",
       "      <td>77.517615</td>\n",
       "      <td>ANYONE</td>\n",
       "      <td>0</td>\n",
       "      <td>0</td>\n",
       "      <td>0</td>\n",
       "      <td>...</td>\n",
       "      <td>E</td>\n",
       "      <td>2.0</td>\n",
       "      <td>3</td>\n",
       "      <td>3.0</td>\n",
       "      <td>{\"LIFT\":false,\"GYM\":false,\"INTERNET\":true,\"AC\"...</td>\n",
       "      <td>CORP_BORE</td>\n",
       "      <td>IF</td>\n",
       "      <td>1.0</td>\n",
       "      <td>15000</td>\n",
       "      <td>150000.0</td>\n",
       "    </tr>\n",
       "    <tr>\n",
       "      <th>15</th>\n",
       "      <td>ff80818163ca7f280163ce79cc3431f5</td>\n",
       "      <td>BHK2</td>\n",
       "      <td>Bendre Nagar</td>\n",
       "      <td>2018-06-05 14:04:14</td>\n",
       "      <td>12.913392</td>\n",
       "      <td>77.561954</td>\n",
       "      <td>FAMILY</td>\n",
       "      <td>0</td>\n",
       "      <td>0</td>\n",
       "      <td>0</td>\n",
       "      <td>...</td>\n",
       "      <td>N</td>\n",
       "      <td>2.0</td>\n",
       "      <td>0</td>\n",
       "      <td>3.0</td>\n",
       "      <td>{\"LIFT\":false,\"GYM\":false,\"INTERNET\":false,\"AC...</td>\n",
       "      <td>CORPORATION</td>\n",
       "      <td>IF</td>\n",
       "      <td>0.0</td>\n",
       "      <td>15500</td>\n",
       "      <td>150000.0</td>\n",
       "    </tr>\n",
       "    <tr>\n",
       "      <th>16</th>\n",
       "      <td>ff80818163d92b8e0163dd945aec5a75</td>\n",
       "      <td>BHK2</td>\n",
       "      <td>Brookefield</td>\n",
       "      <td>2018-06-10 19:50:44</td>\n",
       "      <td>12.968715</td>\n",
       "      <td>77.713079</td>\n",
       "      <td>FAMILY</td>\n",
       "      <td>0</td>\n",
       "      <td>0</td>\n",
       "      <td>0</td>\n",
       "      <td>...</td>\n",
       "      <td>E</td>\n",
       "      <td>2.0</td>\n",
       "      <td>0</td>\n",
       "      <td>3.0</td>\n",
       "      <td>{\"INTERCOM\":true,\"SC\":false,\"AC\":false,\"PARK\":...</td>\n",
       "      <td>CORP_BORE</td>\n",
       "      <td>AP</td>\n",
       "      <td>3.0</td>\n",
       "      <td>22500</td>\n",
       "      <td>200000.0</td>\n",
       "    </tr>\n",
       "    <tr>\n",
       "      <th>17</th>\n",
       "      <td>ff8081815f58e7be015f5ca4cb323344</td>\n",
       "      <td>BHK2</td>\n",
       "      <td>Kumaraswamy Layout</td>\n",
       "      <td>2017-10-27 21:15:43</td>\n",
       "      <td>12.902654</td>\n",
       "      <td>77.564549</td>\n",
       "      <td>FAMILY</td>\n",
       "      <td>0</td>\n",
       "      <td>0</td>\n",
       "      <td>0</td>\n",
       "      <td>...</td>\n",
       "      <td>N</td>\n",
       "      <td>2.0</td>\n",
       "      <td>0</td>\n",
       "      <td>2.0</td>\n",
       "      <td>{\"LIFT\":false,\"GYM\":false,\"INTERNET\":true,\"AC\"...</td>\n",
       "      <td>CORP_BORE</td>\n",
       "      <td>IF</td>\n",
       "      <td>0.0</td>\n",
       "      <td>12000</td>\n",
       "      <td>120000.0</td>\n",
       "    </tr>\n",
       "    <tr>\n",
       "      <th>18</th>\n",
       "      <td>ff808181627abb3d016285a0caa64cd8</td>\n",
       "      <td>BHK2</td>\n",
       "      <td>Whitefield</td>\n",
       "      <td>2018-04-04 16:34:16</td>\n",
       "      <td>12.964323</td>\n",
       "      <td>77.755973</td>\n",
       "      <td>ANYONE</td>\n",
       "      <td>1</td>\n",
       "      <td>1</td>\n",
       "      <td>0</td>\n",
       "      <td>...</td>\n",
       "      <td>NE</td>\n",
       "      <td>9.0</td>\n",
       "      <td>2</td>\n",
       "      <td>4.0</td>\n",
       "      <td>{\"LIFT\":true,\"GYM\":true,\"INTERNET\":true,\"AC\":f...</td>\n",
       "      <td>CORP_BORE</td>\n",
       "      <td>AP</td>\n",
       "      <td>3.0</td>\n",
       "      <td>16000</td>\n",
       "      <td>50000.0</td>\n",
       "    </tr>\n",
       "    <tr>\n",
       "      <th>19</th>\n",
       "      <td>ff80818164d7894b0164d9c358422ab8</td>\n",
       "      <td>BHK2</td>\n",
       "      <td>Ejipura</td>\n",
       "      <td>2018-07-27 17:25:53</td>\n",
       "      <td>12.938249</td>\n",
       "      <td>77.630912</td>\n",
       "      <td>ANYONE</td>\n",
       "      <td>0</td>\n",
       "      <td>0</td>\n",
       "      <td>0</td>\n",
       "      <td>...</td>\n",
       "      <td>N</td>\n",
       "      <td>2.0</td>\n",
       "      <td>2</td>\n",
       "      <td>3.0</td>\n",
       "      <td>{\"LIFT\":false,\"GYM\":false,\"INTERNET\":true,\"AC\"...</td>\n",
       "      <td>CORP_BORE</td>\n",
       "      <td>AP</td>\n",
       "      <td>0.0</td>\n",
       "      <td>16000</td>\n",
       "      <td>75000.0</td>\n",
       "    </tr>\n",
       "    <tr>\n",
       "      <th>20</th>\n",
       "      <td>ff808181616f685501616f729c5b02bb</td>\n",
       "      <td>BHK2</td>\n",
       "      <td>Nallurhalli,Whitefield</td>\n",
       "      <td>2018-05-31 10:13:23</td>\n",
       "      <td>12.968408</td>\n",
       "      <td>77.733105</td>\n",
       "      <td>ANYONE</td>\n",
       "      <td>1</td>\n",
       "      <td>1</td>\n",
       "      <td>1</td>\n",
       "      <td>...</td>\n",
       "      <td>W</td>\n",
       "      <td>4.0</td>\n",
       "      <td>1</td>\n",
       "      <td>11.0</td>\n",
       "      <td>{\"LIFT\":true,\"GYM\":true,\"INTERNET\":true,\"AC\":f...</td>\n",
       "      <td>CORP_BORE</td>\n",
       "      <td>AP</td>\n",
       "      <td>4.0</td>\n",
       "      <td>28000</td>\n",
       "      <td>180000.0</td>\n",
       "    </tr>\n",
       "    <tr>\n",
       "      <th>21</th>\n",
       "      <td>ff808181638d2a350163909b97eb7088</td>\n",
       "      <td>BHK2</td>\n",
       "      <td>Koramangala</td>\n",
       "      <td>2018-07-11 16:08:21</td>\n",
       "      <td>12.921020</td>\n",
       "      <td>77.633941</td>\n",
       "      <td>ANYONE</td>\n",
       "      <td>0</td>\n",
       "      <td>0</td>\n",
       "      <td>0</td>\n",
       "      <td>...</td>\n",
       "      <td>S</td>\n",
       "      <td>2.0</td>\n",
       "      <td>1</td>\n",
       "      <td>3.0</td>\n",
       "      <td>{\"LIFT\":false,\"GYM\":false,\"INTERNET\":true,\"AC\"...</td>\n",
       "      <td>CORP_BORE</td>\n",
       "      <td>AP</td>\n",
       "      <td>1.0</td>\n",
       "      <td>12500</td>\n",
       "      <td>60000.0</td>\n",
       "    </tr>\n",
       "    <tr>\n",
       "      <th>22</th>\n",
       "      <td>ff8081816483b0ba016484474b646d50</td>\n",
       "      <td>BHK1</td>\n",
       "      <td>Banashankari</td>\n",
       "      <td>2018-07-10 21:56:16</td>\n",
       "      <td>12.934411</td>\n",
       "      <td>77.534592</td>\n",
       "      <td>FAMILY</td>\n",
       "      <td>0</td>\n",
       "      <td>0</td>\n",
       "      <td>0</td>\n",
       "      <td>...</td>\n",
       "      <td>N</td>\n",
       "      <td>2.0</td>\n",
       "      <td>0</td>\n",
       "      <td>2.0</td>\n",
       "      <td>{\"LIFT\":false,\"GYM\":false,\"INTERNET\":true,\"AC\"...</td>\n",
       "      <td>CORP_BORE</td>\n",
       "      <td>IH</td>\n",
       "      <td>1.0</td>\n",
       "      <td>8000</td>\n",
       "      <td>100000.0</td>\n",
       "    </tr>\n",
       "    <tr>\n",
       "      <th>23</th>\n",
       "      <td>ff808181616fc2e801616fdaeb7b0c9c</td>\n",
       "      <td>BHK2</td>\n",
       "      <td>Rajajinagar</td>\n",
       "      <td>2018-02-08 17:51:25</td>\n",
       "      <td>12.989536</td>\n",
       "      <td>77.558938</td>\n",
       "      <td>FAMILY</td>\n",
       "      <td>0</td>\n",
       "      <td>0</td>\n",
       "      <td>0</td>\n",
       "      <td>...</td>\n",
       "      <td>S</td>\n",
       "      <td>2.0</td>\n",
       "      <td>1</td>\n",
       "      <td>4.0</td>\n",
       "      <td>{\"LIFT\":false,\"GYM\":false,\"INTERNET\":true,\"AC\"...</td>\n",
       "      <td>CORP_BORE</td>\n",
       "      <td>IF</td>\n",
       "      <td>1.0</td>\n",
       "      <td>15000</td>\n",
       "      <td>150000.0</td>\n",
       "    </tr>\n",
       "    <tr>\n",
       "      <th>24</th>\n",
       "      <td>ff8081816199fec701619dc4989017fd</td>\n",
       "      <td>BHK3</td>\n",
       "      <td>Basaveshwar Nagar</td>\n",
       "      <td>2018-02-16 15:40:02</td>\n",
       "      <td>12.992381</td>\n",
       "      <td>77.537240</td>\n",
       "      <td>FAMILY</td>\n",
       "      <td>0</td>\n",
       "      <td>0</td>\n",
       "      <td>0</td>\n",
       "      <td>...</td>\n",
       "      <td>E</td>\n",
       "      <td>5.0</td>\n",
       "      <td>0</td>\n",
       "      <td>1.0</td>\n",
       "      <td>{\"LIFT\":false,\"GYM\":false,\"INTERNET\":true,\"AC\"...</td>\n",
       "      <td>CORP_BORE</td>\n",
       "      <td>IH</td>\n",
       "      <td>2.0</td>\n",
       "      <td>18000</td>\n",
       "      <td>180000.0</td>\n",
       "    </tr>\n",
       "    <tr>\n",
       "      <th>25</th>\n",
       "      <td>ff8081815e4ff33e015e50b533893bbb</td>\n",
       "      <td>BHK2</td>\n",
       "      <td>Basaveshwara Nagar</td>\n",
       "      <td>2017-09-05 14:53:51</td>\n",
       "      <td>12.984729</td>\n",
       "      <td>77.543229</td>\n",
       "      <td>ANYONE</td>\n",
       "      <td>0</td>\n",
       "      <td>1</td>\n",
       "      <td>0</td>\n",
       "      <td>...</td>\n",
       "      <td>N</td>\n",
       "      <td>2.0</td>\n",
       "      <td>1</td>\n",
       "      <td>4.0</td>\n",
       "      <td>{\"LIFT\":true,\"GYM\":false,\"INTERNET\":false,\"AC\"...</td>\n",
       "      <td>CORP_BORE</td>\n",
       "      <td>AP</td>\n",
       "      <td>1.0</td>\n",
       "      <td>23000</td>\n",
       "      <td>170000.0</td>\n",
       "    </tr>\n",
       "    <tr>\n",
       "      <th>26</th>\n",
       "      <td>ff808181609db9100160a0ae69db335a</td>\n",
       "      <td>BHK1</td>\n",
       "      <td>Mahadevapura</td>\n",
       "      <td>2017-12-29 20:48:28</td>\n",
       "      <td>12.983019</td>\n",
       "      <td>77.705666</td>\n",
       "      <td>ANYONE</td>\n",
       "      <td>0</td>\n",
       "      <td>0</td>\n",
       "      <td>0</td>\n",
       "      <td>...</td>\n",
       "      <td>E</td>\n",
       "      <td>3.0</td>\n",
       "      <td>1</td>\n",
       "      <td>4.0</td>\n",
       "      <td>{\"LIFT\":false,\"GYM\":false,\"INTERNET\":false,\"AC...</td>\n",
       "      <td>CORP_BORE</td>\n",
       "      <td>IF</td>\n",
       "      <td>1.0</td>\n",
       "      <td>12500</td>\n",
       "      <td>50000.0</td>\n",
       "    </tr>\n",
       "    <tr>\n",
       "      <th>27</th>\n",
       "      <td>ff8081815e9f062b015e9f683e9133c2</td>\n",
       "      <td>BHK2</td>\n",
       "      <td>Kasavanahalli</td>\n",
       "      <td>2017-09-22 16:30:24</td>\n",
       "      <td>12.900909</td>\n",
       "      <td>77.674627</td>\n",
       "      <td>ANYONE</td>\n",
       "      <td>1</td>\n",
       "      <td>1</td>\n",
       "      <td>1</td>\n",
       "      <td>...</td>\n",
       "      <td>N</td>\n",
       "      <td>7.0</td>\n",
       "      <td>14</td>\n",
       "      <td>14.0</td>\n",
       "      <td>{\"LIFT\":true,\"GYM\":true,\"INTERNET\":false,\"AC\":...</td>\n",
       "      <td>BOREWELL</td>\n",
       "      <td>AP</td>\n",
       "      <td>3.0</td>\n",
       "      <td>28000</td>\n",
       "      <td>280000.0</td>\n",
       "    </tr>\n",
       "    <tr>\n",
       "      <th>28</th>\n",
       "      <td>ff808181602754c40160277cc6320a3b</td>\n",
       "      <td>BHK3</td>\n",
       "      <td>Thigalarapalya,Hoodi</td>\n",
       "      <td>2017-12-05 22:33:17</td>\n",
       "      <td>12.991589</td>\n",
       "      <td>77.727795</td>\n",
       "      <td>COMPANY</td>\n",
       "      <td>0</td>\n",
       "      <td>0</td>\n",
       "      <td>0</td>\n",
       "      <td>...</td>\n",
       "      <td>W</td>\n",
       "      <td>0.0</td>\n",
       "      <td>4</td>\n",
       "      <td>18.0</td>\n",
       "      <td>{\"LIFT\":true,\"GYM\":true,\"INTERNET\":true,\"AC\":f...</td>\n",
       "      <td>CORPORATION</td>\n",
       "      <td>AP</td>\n",
       "      <td>2.0</td>\n",
       "      <td>42000</td>\n",
       "      <td>400000.0</td>\n",
       "    </tr>\n",
       "    <tr>\n",
       "      <th>29</th>\n",
       "      <td>ff8081815e831a26015e864894ea4706</td>\n",
       "      <td>BHK3</td>\n",
       "      <td>Brookefield</td>\n",
       "      <td>2017-09-15 21:50:56</td>\n",
       "      <td>12.956799</td>\n",
       "      <td>77.721080</td>\n",
       "      <td>ANYONE</td>\n",
       "      <td>1</td>\n",
       "      <td>1</td>\n",
       "      <td>1</td>\n",
       "      <td>...</td>\n",
       "      <td>W</td>\n",
       "      <td>3.0</td>\n",
       "      <td>3</td>\n",
       "      <td>4.0</td>\n",
       "      <td>{\"LIFT\":true,\"GYM\":true,\"INTERNET\":true,\"AC\":f...</td>\n",
       "      <td>CORP_BORE</td>\n",
       "      <td>AP</td>\n",
       "      <td>2.0</td>\n",
       "      <td>26000</td>\n",
       "      <td>100000.0</td>\n",
       "    </tr>\n",
       "    <tr>\n",
       "      <th>...</th>\n",
       "      <td>...</td>\n",
       "      <td>...</td>\n",
       "      <td>...</td>\n",
       "      <td>...</td>\n",
       "      <td>...</td>\n",
       "      <td>...</td>\n",
       "      <td>...</td>\n",
       "      <td>...</td>\n",
       "      <td>...</td>\n",
       "      <td>...</td>\n",
       "      <td>...</td>\n",
       "      <td>...</td>\n",
       "      <td>...</td>\n",
       "      <td>...</td>\n",
       "      <td>...</td>\n",
       "      <td>...</td>\n",
       "      <td>...</td>\n",
       "      <td>...</td>\n",
       "      <td>...</td>\n",
       "      <td>...</td>\n",
       "      <td>...</td>\n",
       "    </tr>\n",
       "    <tr>\n",
       "      <th>24970</th>\n",
       "      <td>ff80818160c5ed140160cc50993749c5</td>\n",
       "      <td>BHK3</td>\n",
       "      <td>Raja Rajeshwari Nagar</td>\n",
       "      <td>2018-01-06 22:24:55</td>\n",
       "      <td>12.920026</td>\n",
       "      <td>77.519502</td>\n",
       "      <td>FAMILY</td>\n",
       "      <td>0</td>\n",
       "      <td>0</td>\n",
       "      <td>0</td>\n",
       "      <td>...</td>\n",
       "      <td>N</td>\n",
       "      <td>4.0</td>\n",
       "      <td>1</td>\n",
       "      <td>3.0</td>\n",
       "      <td>{\"LIFT\":false,\"GYM\":false,\"INTERNET\":true,\"AC\"...</td>\n",
       "      <td>CORP_BORE</td>\n",
       "      <td>IF</td>\n",
       "      <td>2.0</td>\n",
       "      <td>26000</td>\n",
       "      <td>260000.0</td>\n",
       "    </tr>\n",
       "    <tr>\n",
       "      <th>24971</th>\n",
       "      <td>ff808181579463e5015794f72d6a2249</td>\n",
       "      <td>BHK1</td>\n",
       "      <td>Whitefield</td>\n",
       "      <td>2018-05-08 17:33:41</td>\n",
       "      <td>12.964620</td>\n",
       "      <td>77.755117</td>\n",
       "      <td>ANYONE</td>\n",
       "      <td>0</td>\n",
       "      <td>1</td>\n",
       "      <td>1</td>\n",
       "      <td>...</td>\n",
       "      <td>W</td>\n",
       "      <td>1.0</td>\n",
       "      <td>1</td>\n",
       "      <td>5.0</td>\n",
       "      <td>{\"LIFT\":true,\"GYM\":false,\"INTERNET\":true,\"AC\":...</td>\n",
       "      <td>CORPORATION</td>\n",
       "      <td>AP</td>\n",
       "      <td>1.0</td>\n",
       "      <td>12500</td>\n",
       "      <td>50000.0</td>\n",
       "    </tr>\n",
       "    <tr>\n",
       "      <th>24972</th>\n",
       "      <td>ff8081815faaa8e4015fb3e14c0f7f4e</td>\n",
       "      <td>BHK3</td>\n",
       "      <td>Banashankari</td>\n",
       "      <td>2017-11-28 16:28:57</td>\n",
       "      <td>12.920494</td>\n",
       "      <td>77.536942</td>\n",
       "      <td>ANYONE</td>\n",
       "      <td>1</td>\n",
       "      <td>1</td>\n",
       "      <td>1</td>\n",
       "      <td>...</td>\n",
       "      <td>W</td>\n",
       "      <td>3.0</td>\n",
       "      <td>9</td>\n",
       "      <td>14.0</td>\n",
       "      <td>{\"LIFT\":true,\"GYM\":true,\"INTERNET\":false,\"AC\":...</td>\n",
       "      <td>CORP_BORE</td>\n",
       "      <td>AP</td>\n",
       "      <td>2.0</td>\n",
       "      <td>50000</td>\n",
       "      <td>300000.0</td>\n",
       "    </tr>\n",
       "    <tr>\n",
       "      <th>24973</th>\n",
       "      <td>ff80818164b1fe850164b24ec7013d24</td>\n",
       "      <td>BHK1</td>\n",
       "      <td>Mahadevapura</td>\n",
       "      <td>2018-07-20 14:43:08</td>\n",
       "      <td>12.991460</td>\n",
       "      <td>77.690995</td>\n",
       "      <td>ANYONE</td>\n",
       "      <td>0</td>\n",
       "      <td>0</td>\n",
       "      <td>0</td>\n",
       "      <td>...</td>\n",
       "      <td>N</td>\n",
       "      <td>1.0</td>\n",
       "      <td>1</td>\n",
       "      <td>1.0</td>\n",
       "      <td>{\"LIFT\":false,\"GYM\":false,\"INTERNET\":false,\"AC...</td>\n",
       "      <td>CORPORATION</td>\n",
       "      <td>IH</td>\n",
       "      <td>1.0</td>\n",
       "      <td>8000</td>\n",
       "      <td>50000.0</td>\n",
       "    </tr>\n",
       "    <tr>\n",
       "      <th>24974</th>\n",
       "      <td>ff808181632559ba01632570627a0797</td>\n",
       "      <td>BHK2</td>\n",
       "      <td>Srinagar</td>\n",
       "      <td>2018-05-28 22:15:25</td>\n",
       "      <td>12.948217</td>\n",
       "      <td>77.550453</td>\n",
       "      <td>FAMILY</td>\n",
       "      <td>0</td>\n",
       "      <td>0</td>\n",
       "      <td>0</td>\n",
       "      <td>...</td>\n",
       "      <td>E</td>\n",
       "      <td>1.0</td>\n",
       "      <td>2</td>\n",
       "      <td>2.0</td>\n",
       "      <td>{\"LIFT\":false,\"GYM\":false,\"INTERNET\":true,\"AC\"...</td>\n",
       "      <td>CORPORATION</td>\n",
       "      <td>IH</td>\n",
       "      <td>1.0</td>\n",
       "      <td>11000</td>\n",
       "      <td>100000.0</td>\n",
       "    </tr>\n",
       "    <tr>\n",
       "      <th>24975</th>\n",
       "      <td>ff8081815738b8f901573aea427d1538</td>\n",
       "      <td>BHK2</td>\n",
       "      <td>Kaggadasapura</td>\n",
       "      <td>2017-07-26 12:23:52</td>\n",
       "      <td>12.978962</td>\n",
       "      <td>77.679737</td>\n",
       "      <td>FAMILY</td>\n",
       "      <td>0</td>\n",
       "      <td>0</td>\n",
       "      <td>0</td>\n",
       "      <td>...</td>\n",
       "      <td>E</td>\n",
       "      <td>3.0</td>\n",
       "      <td>0</td>\n",
       "      <td>1.0</td>\n",
       "      <td>{\"LIFT\":false,\"GYM\":false,\"INTERNET\":true,\"AC\"...</td>\n",
       "      <td>CORP_BORE</td>\n",
       "      <td>IF</td>\n",
       "      <td>0.0</td>\n",
       "      <td>11000</td>\n",
       "      <td>100000.0</td>\n",
       "    </tr>\n",
       "    <tr>\n",
       "      <th>24976</th>\n",
       "      <td>ff8081816306a0a0016311815ac03971</td>\n",
       "      <td>BHK3</td>\n",
       "      <td>Rajaji Nagar</td>\n",
       "      <td>2018-04-29 19:04:37</td>\n",
       "      <td>12.982311</td>\n",
       "      <td>77.553716</td>\n",
       "      <td>ANYONE</td>\n",
       "      <td>0</td>\n",
       "      <td>0</td>\n",
       "      <td>0</td>\n",
       "      <td>...</td>\n",
       "      <td>NE</td>\n",
       "      <td>3.0</td>\n",
       "      <td>0</td>\n",
       "      <td>1.0</td>\n",
       "      <td>{\"LIFT\":false,\"GYM\":false,\"INTERNET\":true,\"AC\"...</td>\n",
       "      <td>CORPORATION</td>\n",
       "      <td>IF</td>\n",
       "      <td>0.0</td>\n",
       "      <td>25000</td>\n",
       "      <td>250000.0</td>\n",
       "    </tr>\n",
       "    <tr>\n",
       "      <th>24977</th>\n",
       "      <td>ff808181581e52e701581fba19bc1506</td>\n",
       "      <td>BHK3</td>\n",
       "      <td>Kempapura,Bellandur</td>\n",
       "      <td>2018-02-06 10:49:53</td>\n",
       "      <td>12.946005</td>\n",
       "      <td>77.675063</td>\n",
       "      <td>FAMILY</td>\n",
       "      <td>1</td>\n",
       "      <td>1</td>\n",
       "      <td>0</td>\n",
       "      <td>...</td>\n",
       "      <td>E</td>\n",
       "      <td>5.0</td>\n",
       "      <td>3</td>\n",
       "      <td>4.0</td>\n",
       "      <td>{\"LIFT\":true,\"GYM\":true,\"INTERNET\":true,\"AC\":f...</td>\n",
       "      <td>CORP_BORE</td>\n",
       "      <td>AP</td>\n",
       "      <td>3.0</td>\n",
       "      <td>24000</td>\n",
       "      <td>150000.0</td>\n",
       "    </tr>\n",
       "    <tr>\n",
       "      <th>24978</th>\n",
       "      <td>ff8081815d56c69a015d58ff0b261493</td>\n",
       "      <td>BHK3</td>\n",
       "      <td>AECS Layout</td>\n",
       "      <td>2017-07-19 09:50:16</td>\n",
       "      <td>12.963967</td>\n",
       "      <td>77.712034</td>\n",
       "      <td>FAMILY</td>\n",
       "      <td>0</td>\n",
       "      <td>0</td>\n",
       "      <td>0</td>\n",
       "      <td>...</td>\n",
       "      <td>W</td>\n",
       "      <td>3.0</td>\n",
       "      <td>0</td>\n",
       "      <td>2.0</td>\n",
       "      <td>{\"LIFT\":false,\"GYM\":false,\"INTERNET\":false,\"AC...</td>\n",
       "      <td>CORP_BORE</td>\n",
       "      <td>IF</td>\n",
       "      <td>1.0</td>\n",
       "      <td>29000</td>\n",
       "      <td>100000.0</td>\n",
       "    </tr>\n",
       "    <tr>\n",
       "      <th>24979</th>\n",
       "      <td>ff8081815fee312e015fee3603950138</td>\n",
       "      <td>BHK3</td>\n",
       "      <td>C V Raman Nagar</td>\n",
       "      <td>2017-11-24 20:16:51</td>\n",
       "      <td>12.983070</td>\n",
       "      <td>77.665434</td>\n",
       "      <td>FAMILY</td>\n",
       "      <td>0</td>\n",
       "      <td>1</td>\n",
       "      <td>0</td>\n",
       "      <td>...</td>\n",
       "      <td>W</td>\n",
       "      <td>3.0</td>\n",
       "      <td>1</td>\n",
       "      <td>4.0</td>\n",
       "      <td>{\"LIFT\":true,\"GYM\":false,\"INTERNET\":true,\"AC\":...</td>\n",
       "      <td>CORP_BORE</td>\n",
       "      <td>AP</td>\n",
       "      <td>1.0</td>\n",
       "      <td>20000</td>\n",
       "      <td>200000.0</td>\n",
       "    </tr>\n",
       "    <tr>\n",
       "      <th>24980</th>\n",
       "      <td>ff80818163e44e860163e7eb0cf94ace</td>\n",
       "      <td>BHK2</td>\n",
       "      <td>Pattandur Agrahara,Whitefield</td>\n",
       "      <td>2018-06-15 17:46:58</td>\n",
       "      <td>12.977552</td>\n",
       "      <td>77.737544</td>\n",
       "      <td>ANYONE</td>\n",
       "      <td>1</td>\n",
       "      <td>1</td>\n",
       "      <td>0</td>\n",
       "      <td>...</td>\n",
       "      <td>E</td>\n",
       "      <td>4.0</td>\n",
       "      <td>3</td>\n",
       "      <td>4.0</td>\n",
       "      <td>{\"LIFT\":true,\"GYM\":true,\"INTERNET\":true,\"AC\":f...</td>\n",
       "      <td>BOREWELL</td>\n",
       "      <td>AP</td>\n",
       "      <td>1.0</td>\n",
       "      <td>20000</td>\n",
       "      <td>140000.0</td>\n",
       "    </tr>\n",
       "    <tr>\n",
       "      <th>24981</th>\n",
       "      <td>ff8081816128c92e01612c33f1235349</td>\n",
       "      <td>BHK2</td>\n",
       "      <td>Adarsh Palm Retreat,Bellandur</td>\n",
       "      <td>2018-01-25 13:48:16</td>\n",
       "      <td>12.915500</td>\n",
       "      <td>77.690947</td>\n",
       "      <td>FAMILY</td>\n",
       "      <td>1</td>\n",
       "      <td>1</td>\n",
       "      <td>1</td>\n",
       "      <td>...</td>\n",
       "      <td>S</td>\n",
       "      <td>2.0</td>\n",
       "      <td>3</td>\n",
       "      <td>4.0</td>\n",
       "      <td>{\"LIFT\":true,\"GYM\":true,\"INTERNET\":false,\"AC\":...</td>\n",
       "      <td>BOREWELL</td>\n",
       "      <td>AP</td>\n",
       "      <td>1.0</td>\n",
       "      <td>28000</td>\n",
       "      <td>250000.0</td>\n",
       "    </tr>\n",
       "    <tr>\n",
       "      <th>24982</th>\n",
       "      <td>ff8081815fd86fcb015fd8edf27b458a</td>\n",
       "      <td>BHK2</td>\n",
       "      <td>JP Nagar 4th Phase</td>\n",
       "      <td>2017-11-20 16:51:32</td>\n",
       "      <td>12.906087</td>\n",
       "      <td>77.599096</td>\n",
       "      <td>ANYONE</td>\n",
       "      <td>0</td>\n",
       "      <td>0</td>\n",
       "      <td>0</td>\n",
       "      <td>...</td>\n",
       "      <td>N</td>\n",
       "      <td>2.0</td>\n",
       "      <td>1</td>\n",
       "      <td>2.0</td>\n",
       "      <td>{\"LIFT\":false,\"GYM\":false,\"INTERNET\":true,\"AC\"...</td>\n",
       "      <td>CORP_BORE</td>\n",
       "      <td>IF</td>\n",
       "      <td>0.0</td>\n",
       "      <td>16500</td>\n",
       "      <td>100000.0</td>\n",
       "    </tr>\n",
       "    <tr>\n",
       "      <th>24983</th>\n",
       "      <td>ff8081815ee7a1c1015eeadcb3565ffa</td>\n",
       "      <td>BHK1</td>\n",
       "      <td>Annasandrapalya Extension</td>\n",
       "      <td>2017-10-05 14:42:18</td>\n",
       "      <td>12.962664</td>\n",
       "      <td>77.674825</td>\n",
       "      <td>ANYONE</td>\n",
       "      <td>0</td>\n",
       "      <td>0</td>\n",
       "      <td>0</td>\n",
       "      <td>...</td>\n",
       "      <td>E</td>\n",
       "      <td>1.0</td>\n",
       "      <td>2</td>\n",
       "      <td>3.0</td>\n",
       "      <td>{\"LIFT\":false,\"GYM\":false,\"INTERNET\":true,\"AC\"...</td>\n",
       "      <td>CORPORATION</td>\n",
       "      <td>IF</td>\n",
       "      <td>0.0</td>\n",
       "      <td>8000</td>\n",
       "      <td>50000.0</td>\n",
       "    </tr>\n",
       "    <tr>\n",
       "      <th>24984</th>\n",
       "      <td>ff808181626294c5016262c011070c5b</td>\n",
       "      <td>BHK2</td>\n",
       "      <td>Chandra Layout</td>\n",
       "      <td>2018-06-18 20:24:13</td>\n",
       "      <td>12.957574</td>\n",
       "      <td>77.528115</td>\n",
       "      <td>ANYONE</td>\n",
       "      <td>0</td>\n",
       "      <td>0</td>\n",
       "      <td>0</td>\n",
       "      <td>...</td>\n",
       "      <td>S</td>\n",
       "      <td>2.0</td>\n",
       "      <td>0</td>\n",
       "      <td>2.0</td>\n",
       "      <td>{\"LIFT\":false,\"GYM\":false,\"INTERNET\":true,\"AC\"...</td>\n",
       "      <td>CORP_BORE</td>\n",
       "      <td>IH</td>\n",
       "      <td>2.0</td>\n",
       "      <td>15000</td>\n",
       "      <td>150000.0</td>\n",
       "    </tr>\n",
       "    <tr>\n",
       "      <th>24985</th>\n",
       "      <td>ff8081815cab88b6015caf5cd2fc1571</td>\n",
       "      <td>BHK2</td>\n",
       "      <td>Nagarbhavi</td>\n",
       "      <td>2017-11-05 18:23:25</td>\n",
       "      <td>12.958733</td>\n",
       "      <td>77.511201</td>\n",
       "      <td>ANYONE</td>\n",
       "      <td>0</td>\n",
       "      <td>0</td>\n",
       "      <td>0</td>\n",
       "      <td>...</td>\n",
       "      <td>E</td>\n",
       "      <td>2.0</td>\n",
       "      <td>1</td>\n",
       "      <td>1.0</td>\n",
       "      <td>{\"LIFT\":false,\"GYM\":false,\"INTERNET\":true,\"AC\"...</td>\n",
       "      <td>CORPORATION</td>\n",
       "      <td>IF</td>\n",
       "      <td>0.0</td>\n",
       "      <td>16000</td>\n",
       "      <td>160000.0</td>\n",
       "    </tr>\n",
       "    <tr>\n",
       "      <th>24986</th>\n",
       "      <td>ff80818160b5a24e0160b5c74b1210a7</td>\n",
       "      <td>BHK2</td>\n",
       "      <td>Cox Town</td>\n",
       "      <td>2018-03-07 17:21:04</td>\n",
       "      <td>12.993595</td>\n",
       "      <td>77.619263</td>\n",
       "      <td>ANYONE</td>\n",
       "      <td>0</td>\n",
       "      <td>0</td>\n",
       "      <td>0</td>\n",
       "      <td>...</td>\n",
       "      <td>E</td>\n",
       "      <td>2.0</td>\n",
       "      <td>0</td>\n",
       "      <td>3.0</td>\n",
       "      <td>{\"LIFT\":false,\"GYM\":false,\"INTERNET\":false,\"AC...</td>\n",
       "      <td>CORPORATION</td>\n",
       "      <td>IF</td>\n",
       "      <td>0.0</td>\n",
       "      <td>27000</td>\n",
       "      <td>150000.0</td>\n",
       "    </tr>\n",
       "    <tr>\n",
       "      <th>24987</th>\n",
       "      <td>ff80818154a96e170154aedc92a45149</td>\n",
       "      <td>BHK2</td>\n",
       "      <td>Nagarbhavi</td>\n",
       "      <td>2018-02-24 18:10:27</td>\n",
       "      <td>12.967849</td>\n",
       "      <td>77.501832</td>\n",
       "      <td>FAMILY</td>\n",
       "      <td>0</td>\n",
       "      <td>0</td>\n",
       "      <td>0</td>\n",
       "      <td>...</td>\n",
       "      <td>N</td>\n",
       "      <td>2.0</td>\n",
       "      <td>0</td>\n",
       "      <td>3.0</td>\n",
       "      <td>{\"LIFT\":false,\"GYM\":false,\"INTERNET\":true,\"AC\"...</td>\n",
       "      <td>CORP_BORE</td>\n",
       "      <td>IF</td>\n",
       "      <td>0.0</td>\n",
       "      <td>9000</td>\n",
       "      <td>90000.0</td>\n",
       "    </tr>\n",
       "    <tr>\n",
       "      <th>24988</th>\n",
       "      <td>ff8081815a21c1b1015a229b61fd1cc7</td>\n",
       "      <td>BHK2</td>\n",
       "      <td>BTM 2nd Stage</td>\n",
       "      <td>2017-11-15 12:12:35</td>\n",
       "      <td>12.916151</td>\n",
       "      <td>77.610446</td>\n",
       "      <td>ANYONE</td>\n",
       "      <td>0</td>\n",
       "      <td>0</td>\n",
       "      <td>0</td>\n",
       "      <td>...</td>\n",
       "      <td>E</td>\n",
       "      <td>2.0</td>\n",
       "      <td>0</td>\n",
       "      <td>2.0</td>\n",
       "      <td>{\"LIFT\":false,\"GYM\":false,\"INTERNET\":false,\"AC...</td>\n",
       "      <td>CORP_BORE</td>\n",
       "      <td>IH</td>\n",
       "      <td>0.0</td>\n",
       "      <td>18000</td>\n",
       "      <td>100000.0</td>\n",
       "    </tr>\n",
       "    <tr>\n",
       "      <th>24989</th>\n",
       "      <td>ff8081815a36829d015a37296ebb3959</td>\n",
       "      <td>BHK2</td>\n",
       "      <td>JP Nagar</td>\n",
       "      <td>2018-07-03 17:13:38</td>\n",
       "      <td>12.900713</td>\n",
       "      <td>77.586913</td>\n",
       "      <td>ANYONE</td>\n",
       "      <td>0</td>\n",
       "      <td>1</td>\n",
       "      <td>0</td>\n",
       "      <td>...</td>\n",
       "      <td>W</td>\n",
       "      <td>2.0</td>\n",
       "      <td>3</td>\n",
       "      <td>4.0</td>\n",
       "      <td>{\"LIFT\":true,\"GYM\":false,\"INTERNET\":false,\"AC\"...</td>\n",
       "      <td>CORP_BORE</td>\n",
       "      <td>AP</td>\n",
       "      <td>2.0</td>\n",
       "      <td>15000</td>\n",
       "      <td>100000.0</td>\n",
       "    </tr>\n",
       "    <tr>\n",
       "      <th>24990</th>\n",
       "      <td>ff8081815ea438c1015ea88c982767de</td>\n",
       "      <td>BHK1</td>\n",
       "      <td>Banashankari Stage I</td>\n",
       "      <td>2017-09-22 14:40:49</td>\n",
       "      <td>12.934247</td>\n",
       "      <td>77.557453</td>\n",
       "      <td>ANYONE</td>\n",
       "      <td>0</td>\n",
       "      <td>0</td>\n",
       "      <td>0</td>\n",
       "      <td>...</td>\n",
       "      <td>E</td>\n",
       "      <td>1.0</td>\n",
       "      <td>2</td>\n",
       "      <td>2.0</td>\n",
       "      <td>{\"LIFT\":false,\"GYM\":false,\"INTERNET\":true,\"AC\"...</td>\n",
       "      <td>CORP_BORE</td>\n",
       "      <td>IF</td>\n",
       "      <td>0.0</td>\n",
       "      <td>9000</td>\n",
       "      <td>90000.0</td>\n",
       "    </tr>\n",
       "    <tr>\n",
       "      <th>24991</th>\n",
       "      <td>ff8081815ee79ffb015eec214c7664ce</td>\n",
       "      <td>BHK2</td>\n",
       "      <td>Hosakerehalli</td>\n",
       "      <td>2017-10-06 12:16:58</td>\n",
       "      <td>12.920863</td>\n",
       "      <td>77.536637</td>\n",
       "      <td>FAMILY</td>\n",
       "      <td>0</td>\n",
       "      <td>0</td>\n",
       "      <td>0</td>\n",
       "      <td>...</td>\n",
       "      <td>S</td>\n",
       "      <td>2.0</td>\n",
       "      <td>2</td>\n",
       "      <td>2.0</td>\n",
       "      <td>{\"LIFT\":false,\"GYM\":false,\"INTERNET\":true,\"AC\"...</td>\n",
       "      <td>CORP_BORE</td>\n",
       "      <td>IF</td>\n",
       "      <td>1.0</td>\n",
       "      <td>15000</td>\n",
       "      <td>150000.0</td>\n",
       "    </tr>\n",
       "    <tr>\n",
       "      <th>24992</th>\n",
       "      <td>ff808181644f763e016450412c251cdc</td>\n",
       "      <td>BHK2</td>\n",
       "      <td>Whitefield</td>\n",
       "      <td>2018-07-10 20:19:33</td>\n",
       "      <td>12.976795</td>\n",
       "      <td>77.742155</td>\n",
       "      <td>COMPANY</td>\n",
       "      <td>0</td>\n",
       "      <td>1</td>\n",
       "      <td>1</td>\n",
       "      <td>...</td>\n",
       "      <td>E</td>\n",
       "      <td>4.0</td>\n",
       "      <td>1</td>\n",
       "      <td>5.0</td>\n",
       "      <td>{\"LIFT\":true,\"GYM\":false,\"INTERNET\":true,\"AC\":...</td>\n",
       "      <td>CORP_BORE</td>\n",
       "      <td>AP</td>\n",
       "      <td>2.0</td>\n",
       "      <td>26000</td>\n",
       "      <td>100000.0</td>\n",
       "    </tr>\n",
       "    <tr>\n",
       "      <th>24993</th>\n",
       "      <td>ff80818159e9b2510159ee752c932ba6</td>\n",
       "      <td>BHK3</td>\n",
       "      <td>RR Nagar</td>\n",
       "      <td>2018-07-04 13:15:00</td>\n",
       "      <td>12.931373</td>\n",
       "      <td>77.515560</td>\n",
       "      <td>FAMILY</td>\n",
       "      <td>0</td>\n",
       "      <td>0</td>\n",
       "      <td>0</td>\n",
       "      <td>...</td>\n",
       "      <td>NW</td>\n",
       "      <td>2.0</td>\n",
       "      <td>1</td>\n",
       "      <td>2.0</td>\n",
       "      <td>{\"LIFT\":false,\"GYM\":false,\"INTERNET\":false,\"AC...</td>\n",
       "      <td>CORP_BORE</td>\n",
       "      <td>IF</td>\n",
       "      <td>0.0</td>\n",
       "      <td>20000</td>\n",
       "      <td>200000.0</td>\n",
       "    </tr>\n",
       "    <tr>\n",
       "      <th>24994</th>\n",
       "      <td>ff8081815d65f47a015d66011fb70179</td>\n",
       "      <td>BHK3</td>\n",
       "      <td>Whitefield</td>\n",
       "      <td>2018-07-03 17:10:46</td>\n",
       "      <td>12.983226</td>\n",
       "      <td>77.743941</td>\n",
       "      <td>ANYONE</td>\n",
       "      <td>1</td>\n",
       "      <td>1</td>\n",
       "      <td>1</td>\n",
       "      <td>...</td>\n",
       "      <td>W</td>\n",
       "      <td>3.0</td>\n",
       "      <td>4</td>\n",
       "      <td>5.0</td>\n",
       "      <td>{\"LIFT\":true,\"GYM\":true,\"INTERNET\":true,\"AC\":f...</td>\n",
       "      <td>CORPORATION</td>\n",
       "      <td>AP</td>\n",
       "      <td>2.0</td>\n",
       "      <td>35000</td>\n",
       "      <td>250000.0</td>\n",
       "    </tr>\n",
       "    <tr>\n",
       "      <th>24995</th>\n",
       "      <td>ff8081816306a4ae0163110a418843b3</td>\n",
       "      <td>BHK2</td>\n",
       "      <td>Doddanekundi</td>\n",
       "      <td>2018-04-29 17:59:43</td>\n",
       "      <td>12.969708</td>\n",
       "      <td>77.688017</td>\n",
       "      <td>ANYONE</td>\n",
       "      <td>0</td>\n",
       "      <td>1</td>\n",
       "      <td>0</td>\n",
       "      <td>...</td>\n",
       "      <td>E</td>\n",
       "      <td>2.0</td>\n",
       "      <td>4</td>\n",
       "      <td>4.0</td>\n",
       "      <td>{\"LIFT\":true,\"GYM\":false,\"INTERNET\":true,\"AC\":...</td>\n",
       "      <td>BOREWELL</td>\n",
       "      <td>AP</td>\n",
       "      <td>1.0</td>\n",
       "      <td>20000</td>\n",
       "      <td>150000.0</td>\n",
       "    </tr>\n",
       "    <tr>\n",
       "      <th>24996</th>\n",
       "      <td>ff8081815e14c7fe015e19124d9548f0</td>\n",
       "      <td>BHK1</td>\n",
       "      <td>C V Raman Nagar</td>\n",
       "      <td>2017-08-25 18:07:29</td>\n",
       "      <td>12.992878</td>\n",
       "      <td>77.665004</td>\n",
       "      <td>FAMILY</td>\n",
       "      <td>0</td>\n",
       "      <td>0</td>\n",
       "      <td>0</td>\n",
       "      <td>...</td>\n",
       "      <td>N</td>\n",
       "      <td>4.0</td>\n",
       "      <td>2</td>\n",
       "      <td>3.0</td>\n",
       "      <td>{\"LIFT\":false,\"GYM\":false,\"INTERNET\":true,\"AC\"...</td>\n",
       "      <td>CORP_BORE</td>\n",
       "      <td>IF</td>\n",
       "      <td>0.0</td>\n",
       "      <td>9500</td>\n",
       "      <td>70000.0</td>\n",
       "    </tr>\n",
       "    <tr>\n",
       "      <th>24997</th>\n",
       "      <td>ff808181633148de01633a044b6a442a</td>\n",
       "      <td>BHK1</td>\n",
       "      <td>Mahadevapura</td>\n",
       "      <td>2018-05-29 15:59:30</td>\n",
       "      <td>12.992564</td>\n",
       "      <td>77.666543</td>\n",
       "      <td>ANYONE</td>\n",
       "      <td>0</td>\n",
       "      <td>0</td>\n",
       "      <td>0</td>\n",
       "      <td>...</td>\n",
       "      <td>W</td>\n",
       "      <td>1.0</td>\n",
       "      <td>1</td>\n",
       "      <td>2.0</td>\n",
       "      <td>{\"LIFT\":false,\"GYM\":false,\"INTERNET\":true,\"AC\"...</td>\n",
       "      <td>CORPORATION</td>\n",
       "      <td>IF</td>\n",
       "      <td>0.0</td>\n",
       "      <td>8000</td>\n",
       "      <td>80000.0</td>\n",
       "    </tr>\n",
       "    <tr>\n",
       "      <th>24998</th>\n",
       "      <td>ff8081815f58e7be015f5be9e1155e86</td>\n",
       "      <td>BHK1</td>\n",
       "      <td>Suddagunte Palya</td>\n",
       "      <td>2018-03-11 19:36:17</td>\n",
       "      <td>12.931328</td>\n",
       "      <td>77.603983</td>\n",
       "      <td>ANYONE</td>\n",
       "      <td>0</td>\n",
       "      <td>0</td>\n",
       "      <td>0</td>\n",
       "      <td>...</td>\n",
       "      <td>E</td>\n",
       "      <td>1.0</td>\n",
       "      <td>0</td>\n",
       "      <td>3.0</td>\n",
       "      <td>{\"LIFT\":false,\"GYM\":false,\"INTERNET\":true,\"AC\"...</td>\n",
       "      <td>CORPORATION</td>\n",
       "      <td>IF</td>\n",
       "      <td>1.0</td>\n",
       "      <td>9000</td>\n",
       "      <td>50000.0</td>\n",
       "    </tr>\n",
       "    <tr>\n",
       "      <th>24999</th>\n",
       "      <td>ff80818162f796ab0162fda4df8e2dac</td>\n",
       "      <td>BHK2</td>\n",
       "      <td>Munnekollal</td>\n",
       "      <td>2018-04-27 10:43:07</td>\n",
       "      <td>12.946809</td>\n",
       "      <td>77.715234</td>\n",
       "      <td>FAMILY</td>\n",
       "      <td>0</td>\n",
       "      <td>1</td>\n",
       "      <td>0</td>\n",
       "      <td>...</td>\n",
       "      <td>N</td>\n",
       "      <td>2.0</td>\n",
       "      <td>0</td>\n",
       "      <td>4.0</td>\n",
       "      <td>{\"LIFT\":true,\"GYM\":false,\"INTERNET\":true,\"AC\":...</td>\n",
       "      <td>CORP_BORE</td>\n",
       "      <td>AP</td>\n",
       "      <td>1.0</td>\n",
       "      <td>22000</td>\n",
       "      <td>160000.0</td>\n",
       "    </tr>\n",
       "  </tbody>\n",
       "</table>\n",
       "<p>25000 rows × 26 columns</p>\n",
       "</div>"
      ],
      "text/plain": [
       "                                     id  type                       locality  \\\n",
       "0      ff8081815917971401591af8895032d0  BHK2                     Jayanagara   \n",
       "1      ff80818157dbe1fb0157dc4aa07513dc  BHK2              Basaveshwar Nagar   \n",
       "2      ff8081815d304406015d30edcd7c4f44  BHK3      Jaya Nagar East,Jayanagar   \n",
       "3      ff8081815b106986015b154d908f2ac2  BHK2                  Murugeshpalya   \n",
       "4      ff8081815e80b789015e84a7a42a62a3  BHK2                     Whitefield   \n",
       "5      ff80818162537f2d01625cfb76f37165  BHK2                     HSR Layout   \n",
       "6      ff80818160792cc001608ec7b922154a  BHK3                         Harlur   \n",
       "7      ff8081815bb9ae79015bbd6aae9b03b1  BHK2                   Vijaya Nagar   \n",
       "8      ff808181622f11e901622f590ada0eb9  BHK1                  Doddanekkundi   \n",
       "9      ff8081815dad8e0f015db114d5f90716  BHK2                  BTM 2nd Stage   \n",
       "10     ff8081816165ddca0161696bf0d4056a  BHK2           EPIP Zone,Whitefield   \n",
       "11     ff8081815c35329b015c357a6379201f  BHK2                  Doddakannelli   \n",
       "12     ff80818154d230860154e1adf7715d48  BHK2  Whitefield Hope Farm Junction   \n",
       "13     ff8081815deb30c2015deead2ad13882  BHK2                     Whitefield   \n",
       "14     ff8081815c71b0d0015c71c37acc098a  BHK2          Raja Rajeshwari Nagar   \n",
       "15     ff80818163ca7f280163ce79cc3431f5  BHK2                   Bendre Nagar   \n",
       "16     ff80818163d92b8e0163dd945aec5a75  BHK2                    Brookefield   \n",
       "17     ff8081815f58e7be015f5ca4cb323344  BHK2             Kumaraswamy Layout   \n",
       "18     ff808181627abb3d016285a0caa64cd8  BHK2                     Whitefield   \n",
       "19     ff80818164d7894b0164d9c358422ab8  BHK2                        Ejipura   \n",
       "20     ff808181616f685501616f729c5b02bb  BHK2         Nallurhalli,Whitefield   \n",
       "21     ff808181638d2a350163909b97eb7088  BHK2                    Koramangala   \n",
       "22     ff8081816483b0ba016484474b646d50  BHK1                   Banashankari   \n",
       "23     ff808181616fc2e801616fdaeb7b0c9c  BHK2                    Rajajinagar   \n",
       "24     ff8081816199fec701619dc4989017fd  BHK3              Basaveshwar Nagar   \n",
       "25     ff8081815e4ff33e015e50b533893bbb  BHK2             Basaveshwara Nagar   \n",
       "26     ff808181609db9100160a0ae69db335a  BHK1                   Mahadevapura   \n",
       "27     ff8081815e9f062b015e9f683e9133c2  BHK2                  Kasavanahalli   \n",
       "28     ff808181602754c40160277cc6320a3b  BHK3           Thigalarapalya,Hoodi   \n",
       "29     ff8081815e831a26015e864894ea4706  BHK3                    Brookefield   \n",
       "...                                 ...   ...                            ...   \n",
       "24970  ff80818160c5ed140160cc50993749c5  BHK3          Raja Rajeshwari Nagar   \n",
       "24971  ff808181579463e5015794f72d6a2249  BHK1                     Whitefield   \n",
       "24972  ff8081815faaa8e4015fb3e14c0f7f4e  BHK3                   Banashankari   \n",
       "24973  ff80818164b1fe850164b24ec7013d24  BHK1                   Mahadevapura   \n",
       "24974  ff808181632559ba01632570627a0797  BHK2                       Srinagar   \n",
       "24975  ff8081815738b8f901573aea427d1538  BHK2                  Kaggadasapura   \n",
       "24976  ff8081816306a0a0016311815ac03971  BHK3                   Rajaji Nagar   \n",
       "24977  ff808181581e52e701581fba19bc1506  BHK3            Kempapura,Bellandur   \n",
       "24978  ff8081815d56c69a015d58ff0b261493  BHK3                    AECS Layout   \n",
       "24979  ff8081815fee312e015fee3603950138  BHK3                C V Raman Nagar   \n",
       "24980  ff80818163e44e860163e7eb0cf94ace  BHK2  Pattandur Agrahara,Whitefield   \n",
       "24981  ff8081816128c92e01612c33f1235349  BHK2  Adarsh Palm Retreat,Bellandur   \n",
       "24982  ff8081815fd86fcb015fd8edf27b458a  BHK2             JP Nagar 4th Phase   \n",
       "24983  ff8081815ee7a1c1015eeadcb3565ffa  BHK1      Annasandrapalya Extension   \n",
       "24984  ff808181626294c5016262c011070c5b  BHK2                 Chandra Layout   \n",
       "24985  ff8081815cab88b6015caf5cd2fc1571  BHK2                     Nagarbhavi   \n",
       "24986  ff80818160b5a24e0160b5c74b1210a7  BHK2                       Cox Town   \n",
       "24987  ff80818154a96e170154aedc92a45149  BHK2                     Nagarbhavi   \n",
       "24988  ff8081815a21c1b1015a229b61fd1cc7  BHK2                  BTM 2nd Stage   \n",
       "24989  ff8081815a36829d015a37296ebb3959  BHK2                       JP Nagar   \n",
       "24990  ff8081815ea438c1015ea88c982767de  BHK1           Banashankari Stage I   \n",
       "24991  ff8081815ee79ffb015eec214c7664ce  BHK2                  Hosakerehalli   \n",
       "24992  ff808181644f763e016450412c251cdc  BHK2                     Whitefield   \n",
       "24993  ff80818159e9b2510159ee752c932ba6  BHK3                       RR Nagar   \n",
       "24994  ff8081815d65f47a015d66011fb70179  BHK3                     Whitefield   \n",
       "24995  ff8081816306a4ae0163110a418843b3  BHK2                   Doddanekundi   \n",
       "24996  ff8081815e14c7fe015e19124d9548f0  BHK1                C V Raman Nagar   \n",
       "24997  ff808181633148de01633a044b6a442a  BHK1                   Mahadevapura   \n",
       "24998  ff8081815f58e7be015f5be9e1155e86  BHK1               Suddagunte Palya   \n",
       "24999  ff80818162f796ab0162fda4df8e2dac  BHK2                    Munnekollal   \n",
       "\n",
       "           activation_date   latitude  longitude lease_type  gym  lift  \\\n",
       "0      2018-07-05 17:09:49  12.936601  77.576914     FAMILY    0     0   \n",
       "1      2017-12-30 17:22:12  12.997989  77.545219     FAMILY    0     0   \n",
       "2      2017-07-11 15:42:05  12.935696  77.587642     FAMILY    0     1   \n",
       "3      2018-07-07 14:26:14  12.953507  77.656118     FAMILY    0     1   \n",
       "4      2017-09-27 12:19:28  12.968520  77.742436     ANYONE    1     1   \n",
       "5      2018-03-25 18:15:19  12.921999  77.646238     FAMILY    0     0   \n",
       "6      2018-07-26 21:01:47  12.909958  77.674755     FAMILY    0     0   \n",
       "7      2018-05-19 13:12:15  12.964160  77.518935     FAMILY    0     0   \n",
       "8      2018-03-20 17:58:57  12.970340  77.688801     FAMILY    0     0   \n",
       "9      2017-08-18 17:00:23  12.909464  77.609353     ANYONE    0     0   \n",
       "10     2018-02-06 12:41:03  12.972033  77.715336     ANYONE    1     1   \n",
       "11     2017-12-28 10:06:19  12.909807  77.705232     FAMILY    0     0   \n",
       "12     2018-06-15 19:31:37  12.990748  77.719513     ANYONE    1     1   \n",
       "13     2017-08-18 15:00:23  12.967221  77.754272     ANYONE    0     0   \n",
       "14     2018-05-29 17:24:24  12.936000  77.517615     ANYONE    0     0   \n",
       "15     2018-06-05 14:04:14  12.913392  77.561954     FAMILY    0     0   \n",
       "16     2018-06-10 19:50:44  12.968715  77.713079     FAMILY    0     0   \n",
       "17     2017-10-27 21:15:43  12.902654  77.564549     FAMILY    0     0   \n",
       "18     2018-04-04 16:34:16  12.964323  77.755973     ANYONE    1     1   \n",
       "19     2018-07-27 17:25:53  12.938249  77.630912     ANYONE    0     0   \n",
       "20     2018-05-31 10:13:23  12.968408  77.733105     ANYONE    1     1   \n",
       "21     2018-07-11 16:08:21  12.921020  77.633941     ANYONE    0     0   \n",
       "22     2018-07-10 21:56:16  12.934411  77.534592     FAMILY    0     0   \n",
       "23     2018-02-08 17:51:25  12.989536  77.558938     FAMILY    0     0   \n",
       "24     2018-02-16 15:40:02  12.992381  77.537240     FAMILY    0     0   \n",
       "25     2017-09-05 14:53:51  12.984729  77.543229     ANYONE    0     1   \n",
       "26     2017-12-29 20:48:28  12.983019  77.705666     ANYONE    0     0   \n",
       "27     2017-09-22 16:30:24  12.900909  77.674627     ANYONE    1     1   \n",
       "28     2017-12-05 22:33:17  12.991589  77.727795    COMPANY    0     0   \n",
       "29     2017-09-15 21:50:56  12.956799  77.721080     ANYONE    1     1   \n",
       "...                    ...        ...        ...        ...  ...   ...   \n",
       "24970  2018-01-06 22:24:55  12.920026  77.519502     FAMILY    0     0   \n",
       "24971  2018-05-08 17:33:41  12.964620  77.755117     ANYONE    0     1   \n",
       "24972  2017-11-28 16:28:57  12.920494  77.536942     ANYONE    1     1   \n",
       "24973  2018-07-20 14:43:08  12.991460  77.690995     ANYONE    0     0   \n",
       "24974  2018-05-28 22:15:25  12.948217  77.550453     FAMILY    0     0   \n",
       "24975  2017-07-26 12:23:52  12.978962  77.679737     FAMILY    0     0   \n",
       "24976  2018-04-29 19:04:37  12.982311  77.553716     ANYONE    0     0   \n",
       "24977  2018-02-06 10:49:53  12.946005  77.675063     FAMILY    1     1   \n",
       "24978  2017-07-19 09:50:16  12.963967  77.712034     FAMILY    0     0   \n",
       "24979  2017-11-24 20:16:51  12.983070  77.665434     FAMILY    0     1   \n",
       "24980  2018-06-15 17:46:58  12.977552  77.737544     ANYONE    1     1   \n",
       "24981  2018-01-25 13:48:16  12.915500  77.690947     FAMILY    1     1   \n",
       "24982  2017-11-20 16:51:32  12.906087  77.599096     ANYONE    0     0   \n",
       "24983  2017-10-05 14:42:18  12.962664  77.674825     ANYONE    0     0   \n",
       "24984  2018-06-18 20:24:13  12.957574  77.528115     ANYONE    0     0   \n",
       "24985  2017-11-05 18:23:25  12.958733  77.511201     ANYONE    0     0   \n",
       "24986  2018-03-07 17:21:04  12.993595  77.619263     ANYONE    0     0   \n",
       "24987  2018-02-24 18:10:27  12.967849  77.501832     FAMILY    0     0   \n",
       "24988  2017-11-15 12:12:35  12.916151  77.610446     ANYONE    0     0   \n",
       "24989  2018-07-03 17:13:38  12.900713  77.586913     ANYONE    0     1   \n",
       "24990  2017-09-22 14:40:49  12.934247  77.557453     ANYONE    0     0   \n",
       "24991  2017-10-06 12:16:58  12.920863  77.536637     FAMILY    0     0   \n",
       "24992  2018-07-10 20:19:33  12.976795  77.742155    COMPANY    0     1   \n",
       "24993  2018-07-04 13:15:00  12.931373  77.515560     FAMILY    0     0   \n",
       "24994  2018-07-03 17:10:46  12.983226  77.743941     ANYONE    1     1   \n",
       "24995  2018-04-29 17:59:43  12.969708  77.688017     ANYONE    0     1   \n",
       "24996  2017-08-25 18:07:29  12.992878  77.665004     FAMILY    0     0   \n",
       "24997  2018-05-29 15:59:30  12.992564  77.666543     ANYONE    0     0   \n",
       "24998  2018-03-11 19:36:17  12.931328  77.603983     ANYONE    0     0   \n",
       "24999  2018-04-27 10:43:07  12.946809  77.715234     FAMILY    0     1   \n",
       "\n",
       "       swimming_pool  ...  facing cup_board floor  total_floor  \\\n",
       "0                  0  ...       S       2.0     2          2.0   \n",
       "1                  0  ...       W       2.0     0          1.0   \n",
       "2                  0  ...       E       3.0     4          9.0   \n",
       "3                  0  ...       E       2.0     4          4.0   \n",
       "4                  1  ...       E       2.0     1          9.0   \n",
       "5                  0  ...       N       2.0     1          4.0   \n",
       "6                  0  ...       W       6.0     0          2.0   \n",
       "7                  0  ...       W       2.0     0          3.0   \n",
       "8                  0  ...       E       1.0     1          3.0   \n",
       "9                  0  ...       E       2.0     1          2.0   \n",
       "10                 1  ...       N       2.0     3          4.0   \n",
       "11                 0  ...       E       2.0     0          0.0   \n",
       "12                 1  ...       N       2.0     8          9.0   \n",
       "13                 0  ...       E       1.0     1          1.0   \n",
       "14                 0  ...       E       2.0     3          3.0   \n",
       "15                 0  ...       N       2.0     0          3.0   \n",
       "16                 0  ...       E       2.0     0          3.0   \n",
       "17                 0  ...       N       2.0     0          2.0   \n",
       "18                 0  ...      NE       9.0     2          4.0   \n",
       "19                 0  ...       N       2.0     2          3.0   \n",
       "20                 1  ...       W       4.0     1         11.0   \n",
       "21                 0  ...       S       2.0     1          3.0   \n",
       "22                 0  ...       N       2.0     0          2.0   \n",
       "23                 0  ...       S       2.0     1          4.0   \n",
       "24                 0  ...       E       5.0     0          1.0   \n",
       "25                 0  ...       N       2.0     1          4.0   \n",
       "26                 0  ...       E       3.0     1          4.0   \n",
       "27                 1  ...       N       7.0    14         14.0   \n",
       "28                 0  ...       W       0.0     4         18.0   \n",
       "29                 1  ...       W       3.0     3          4.0   \n",
       "...              ...  ...     ...       ...   ...          ...   \n",
       "24970              0  ...       N       4.0     1          3.0   \n",
       "24971              1  ...       W       1.0     1          5.0   \n",
       "24972              1  ...       W       3.0     9         14.0   \n",
       "24973              0  ...       N       1.0     1          1.0   \n",
       "24974              0  ...       E       1.0     2          2.0   \n",
       "24975              0  ...       E       3.0     0          1.0   \n",
       "24976              0  ...      NE       3.0     0          1.0   \n",
       "24977              0  ...       E       5.0     3          4.0   \n",
       "24978              0  ...       W       3.0     0          2.0   \n",
       "24979              0  ...       W       3.0     1          4.0   \n",
       "24980              0  ...       E       4.0     3          4.0   \n",
       "24981              1  ...       S       2.0     3          4.0   \n",
       "24982              0  ...       N       2.0     1          2.0   \n",
       "24983              0  ...       E       1.0     2          3.0   \n",
       "24984              0  ...       S       2.0     0          2.0   \n",
       "24985              0  ...       E       2.0     1          1.0   \n",
       "24986              0  ...       E       2.0     0          3.0   \n",
       "24987              0  ...       N       2.0     0          3.0   \n",
       "24988              0  ...       E       2.0     0          2.0   \n",
       "24989              0  ...       W       2.0     3          4.0   \n",
       "24990              0  ...       E       1.0     2          2.0   \n",
       "24991              0  ...       S       2.0     2          2.0   \n",
       "24992              1  ...       E       4.0     1          5.0   \n",
       "24993              0  ...      NW       2.0     1          2.0   \n",
       "24994              1  ...       W       3.0     4          5.0   \n",
       "24995              0  ...       E       2.0     4          4.0   \n",
       "24996              0  ...       N       4.0     2          3.0   \n",
       "24997              0  ...       W       1.0     1          2.0   \n",
       "24998              0  ...       E       1.0     0          3.0   \n",
       "24999              0  ...       N       2.0     0          4.0   \n",
       "\n",
       "                                               amenities  water_supply  \\\n",
       "0      {\"LIFT\":false,\"GYM\":false,\"INTERNET\":false,\"AC...     CORP_BORE   \n",
       "1      {\"LIFT\":false,\"GYM\":false,\"INTERNET\":false,\"AC...   CORPORATION   \n",
       "2      {\"LIFT\":true,\"GYM\":false,\"INTERNET\":true,\"AC\":...   CORPORATION   \n",
       "3      {\"LIFT\":true,\"GYM\":false,\"INTERNET\":true,\"AC\":...      BOREWELL   \n",
       "4      {\"LIFT\":true,\"GYM\":true,\"INTERNET\":true,\"AC\":f...     CORP_BORE   \n",
       "5      {\"LIFT\":false,\"GYM\":false,\"INTERNET\":true,\"AC\"...     CORP_BORE   \n",
       "6      {\"LIFT\":false,\"GYM\":false,\"INTERNET\":false,\"AC...      BOREWELL   \n",
       "7      {\"LIFT\":false,\"GYM\":false,\"INTERNET\":true,\"AC\"...     CORP_BORE   \n",
       "8      {\"PARK\":false,\"HK\":false,\"LIFT\":false,\"PB\":fal...   CORPORATION   \n",
       "9      {\"LIFT\":false,\"GYM\":false,\"INTERNET\":true,\"AC\"...   CORPORATION   \n",
       "10     {\"LIFT\":true,\"GYM\":true,\"INTERNET\":true,\"AC\":f...     CORP_BORE   \n",
       "11     {\"LIFT\":false,\"GYM\":false,\"INTERNET\":true,\"AC\"...      BOREWELL   \n",
       "12     {\"LIFT\":true,\"GYM\":true,\"INTERNET\":true,\"AC\":f...     CORP_BORE   \n",
       "13     {\"LIFT\":false,\"GYM\":false,\"INTERNET\":false,\"AC...     CORP_BORE   \n",
       "14     {\"LIFT\":false,\"GYM\":false,\"INTERNET\":true,\"AC\"...     CORP_BORE   \n",
       "15     {\"LIFT\":false,\"GYM\":false,\"INTERNET\":false,\"AC...   CORPORATION   \n",
       "16     {\"INTERCOM\":true,\"SC\":false,\"AC\":false,\"PARK\":...     CORP_BORE   \n",
       "17     {\"LIFT\":false,\"GYM\":false,\"INTERNET\":true,\"AC\"...     CORP_BORE   \n",
       "18     {\"LIFT\":true,\"GYM\":true,\"INTERNET\":true,\"AC\":f...     CORP_BORE   \n",
       "19     {\"LIFT\":false,\"GYM\":false,\"INTERNET\":true,\"AC\"...     CORP_BORE   \n",
       "20     {\"LIFT\":true,\"GYM\":true,\"INTERNET\":true,\"AC\":f...     CORP_BORE   \n",
       "21     {\"LIFT\":false,\"GYM\":false,\"INTERNET\":true,\"AC\"...     CORP_BORE   \n",
       "22     {\"LIFT\":false,\"GYM\":false,\"INTERNET\":true,\"AC\"...     CORP_BORE   \n",
       "23     {\"LIFT\":false,\"GYM\":false,\"INTERNET\":true,\"AC\"...     CORP_BORE   \n",
       "24     {\"LIFT\":false,\"GYM\":false,\"INTERNET\":true,\"AC\"...     CORP_BORE   \n",
       "25     {\"LIFT\":true,\"GYM\":false,\"INTERNET\":false,\"AC\"...     CORP_BORE   \n",
       "26     {\"LIFT\":false,\"GYM\":false,\"INTERNET\":false,\"AC...     CORP_BORE   \n",
       "27     {\"LIFT\":true,\"GYM\":true,\"INTERNET\":false,\"AC\":...      BOREWELL   \n",
       "28     {\"LIFT\":true,\"GYM\":true,\"INTERNET\":true,\"AC\":f...   CORPORATION   \n",
       "29     {\"LIFT\":true,\"GYM\":true,\"INTERNET\":true,\"AC\":f...     CORP_BORE   \n",
       "...                                                  ...           ...   \n",
       "24970  {\"LIFT\":false,\"GYM\":false,\"INTERNET\":true,\"AC\"...     CORP_BORE   \n",
       "24971  {\"LIFT\":true,\"GYM\":false,\"INTERNET\":true,\"AC\":...   CORPORATION   \n",
       "24972  {\"LIFT\":true,\"GYM\":true,\"INTERNET\":false,\"AC\":...     CORP_BORE   \n",
       "24973  {\"LIFT\":false,\"GYM\":false,\"INTERNET\":false,\"AC...   CORPORATION   \n",
       "24974  {\"LIFT\":false,\"GYM\":false,\"INTERNET\":true,\"AC\"...   CORPORATION   \n",
       "24975  {\"LIFT\":false,\"GYM\":false,\"INTERNET\":true,\"AC\"...     CORP_BORE   \n",
       "24976  {\"LIFT\":false,\"GYM\":false,\"INTERNET\":true,\"AC\"...   CORPORATION   \n",
       "24977  {\"LIFT\":true,\"GYM\":true,\"INTERNET\":true,\"AC\":f...     CORP_BORE   \n",
       "24978  {\"LIFT\":false,\"GYM\":false,\"INTERNET\":false,\"AC...     CORP_BORE   \n",
       "24979  {\"LIFT\":true,\"GYM\":false,\"INTERNET\":true,\"AC\":...     CORP_BORE   \n",
       "24980  {\"LIFT\":true,\"GYM\":true,\"INTERNET\":true,\"AC\":f...      BOREWELL   \n",
       "24981  {\"LIFT\":true,\"GYM\":true,\"INTERNET\":false,\"AC\":...      BOREWELL   \n",
       "24982  {\"LIFT\":false,\"GYM\":false,\"INTERNET\":true,\"AC\"...     CORP_BORE   \n",
       "24983  {\"LIFT\":false,\"GYM\":false,\"INTERNET\":true,\"AC\"...   CORPORATION   \n",
       "24984  {\"LIFT\":false,\"GYM\":false,\"INTERNET\":true,\"AC\"...     CORP_BORE   \n",
       "24985  {\"LIFT\":false,\"GYM\":false,\"INTERNET\":true,\"AC\"...   CORPORATION   \n",
       "24986  {\"LIFT\":false,\"GYM\":false,\"INTERNET\":false,\"AC...   CORPORATION   \n",
       "24987  {\"LIFT\":false,\"GYM\":false,\"INTERNET\":true,\"AC\"...     CORP_BORE   \n",
       "24988  {\"LIFT\":false,\"GYM\":false,\"INTERNET\":false,\"AC...     CORP_BORE   \n",
       "24989  {\"LIFT\":true,\"GYM\":false,\"INTERNET\":false,\"AC\"...     CORP_BORE   \n",
       "24990  {\"LIFT\":false,\"GYM\":false,\"INTERNET\":true,\"AC\"...     CORP_BORE   \n",
       "24991  {\"LIFT\":false,\"GYM\":false,\"INTERNET\":true,\"AC\"...     CORP_BORE   \n",
       "24992  {\"LIFT\":true,\"GYM\":false,\"INTERNET\":true,\"AC\":...     CORP_BORE   \n",
       "24993  {\"LIFT\":false,\"GYM\":false,\"INTERNET\":false,\"AC...     CORP_BORE   \n",
       "24994  {\"LIFT\":true,\"GYM\":true,\"INTERNET\":true,\"AC\":f...   CORPORATION   \n",
       "24995  {\"LIFT\":true,\"GYM\":false,\"INTERNET\":true,\"AC\":...      BOREWELL   \n",
       "24996  {\"LIFT\":false,\"GYM\":false,\"INTERNET\":true,\"AC\"...     CORP_BORE   \n",
       "24997  {\"LIFT\":false,\"GYM\":false,\"INTERNET\":true,\"AC\"...   CORPORATION   \n",
       "24998  {\"LIFT\":false,\"GYM\":false,\"INTERNET\":true,\"AC\"...   CORPORATION   \n",
       "24999  {\"LIFT\":true,\"GYM\":false,\"INTERNET\":true,\"AC\":...     CORP_BORE   \n",
       "\n",
       "      building_type  balconies   rent   deposit  \n",
       "0                IF        1.0  22000  220000.0  \n",
       "1                IH        0.0  20000  200000.0  \n",
       "2                AP        2.0  38000  250000.0  \n",
       "3                AP        1.0  30000  300000.0  \n",
       "4                AP        2.0  26500  150000.0  \n",
       "5                AP        3.0  30000  175000.0  \n",
       "6                GC        2.0  35500  216000.0  \n",
       "7                AP        1.0  15000  150000.0  \n",
       "8                IH        1.0  11000   50000.0  \n",
       "9                IF        1.0  14000   60000.0  \n",
       "10               AP        2.0  26000  150000.0  \n",
       "11               IH        0.0  12000   72000.0  \n",
       "12               AP        3.0  27500  100000.0  \n",
       "13               IF        2.0  13000   40000.0  \n",
       "14               IF        1.0  15000  150000.0  \n",
       "15               IF        0.0  15500  150000.0  \n",
       "16               AP        3.0  22500  200000.0  \n",
       "17               IF        0.0  12000  120000.0  \n",
       "18               AP        3.0  16000   50000.0  \n",
       "19               AP        0.0  16000   75000.0  \n",
       "20               AP        4.0  28000  180000.0  \n",
       "21               AP        1.0  12500   60000.0  \n",
       "22               IH        1.0   8000  100000.0  \n",
       "23               IF        1.0  15000  150000.0  \n",
       "24               IH        2.0  18000  180000.0  \n",
       "25               AP        1.0  23000  170000.0  \n",
       "26               IF        1.0  12500   50000.0  \n",
       "27               AP        3.0  28000  280000.0  \n",
       "28               AP        2.0  42000  400000.0  \n",
       "29               AP        2.0  26000  100000.0  \n",
       "...             ...        ...    ...       ...  \n",
       "24970            IF        2.0  26000  260000.0  \n",
       "24971            AP        1.0  12500   50000.0  \n",
       "24972            AP        2.0  50000  300000.0  \n",
       "24973            IH        1.0   8000   50000.0  \n",
       "24974            IH        1.0  11000  100000.0  \n",
       "24975            IF        0.0  11000  100000.0  \n",
       "24976            IF        0.0  25000  250000.0  \n",
       "24977            AP        3.0  24000  150000.0  \n",
       "24978            IF        1.0  29000  100000.0  \n",
       "24979            AP        1.0  20000  200000.0  \n",
       "24980            AP        1.0  20000  140000.0  \n",
       "24981            AP        1.0  28000  250000.0  \n",
       "24982            IF        0.0  16500  100000.0  \n",
       "24983            IF        0.0   8000   50000.0  \n",
       "24984            IH        2.0  15000  150000.0  \n",
       "24985            IF        0.0  16000  160000.0  \n",
       "24986            IF        0.0  27000  150000.0  \n",
       "24987            IF        0.0   9000   90000.0  \n",
       "24988            IH        0.0  18000  100000.0  \n",
       "24989            AP        2.0  15000  100000.0  \n",
       "24990            IF        0.0   9000   90000.0  \n",
       "24991            IF        1.0  15000  150000.0  \n",
       "24992            AP        2.0  26000  100000.0  \n",
       "24993            IF        0.0  20000  200000.0  \n",
       "24994            AP        2.0  35000  250000.0  \n",
       "24995            AP        1.0  20000  150000.0  \n",
       "24996            IF        0.0   9500   70000.0  \n",
       "24997            IF        0.0   8000   80000.0  \n",
       "24998            IF        1.0   9000   50000.0  \n",
       "24999            AP        1.0  22000  160000.0  \n",
       "\n",
       "[25000 rows x 26 columns]"
      ]
     },
     "execution_count": 5,
     "metadata": {},
     "output_type": "execute_result"
    }
   ],
   "source": [
    "#loading csv file\n",
    "data =pd.read_csv(\"Downloads/hackathon_rentomter_nobroker.csv\")\n",
    "data"
   ]
  },
  {
   "cell_type": "markdown",
   "metadata": {},
   "source": [
    "DATA ANALYSIS"
   ]
  },
  {
   "cell_type": "code",
   "execution_count": 6,
   "metadata": {},
   "outputs": [
    {
     "data": {
      "text/plain": [
       "id                 25000\n",
       "type               25000\n",
       "locality           25000\n",
       "activation_date    25000\n",
       "latitude           25000\n",
       "longitude          25000\n",
       "lease_type         25000\n",
       "gym                25000\n",
       "lift               25000\n",
       "swimming_pool      25000\n",
       "negotiable         25000\n",
       "furnishing         25000\n",
       "parking            25000\n",
       "property_size      25000\n",
       "property_age       25000\n",
       "bathroom           25000\n",
       "facing             25000\n",
       "cup_board          25000\n",
       "floor              25000\n",
       "total_floor        25000\n",
       "amenities          25000\n",
       "water_supply       25000\n",
       "building_type      25000\n",
       "balconies          25000\n",
       "rent               25000\n",
       "deposit            25000\n",
       "dtype: int64"
      ]
     },
     "execution_count": 6,
     "metadata": {},
     "output_type": "execute_result"
    }
   ],
   "source": [
    "#determining count of each feature for training examples \n",
    "data.count()"
   ]
  },
  {
   "cell_type": "code",
   "execution_count": 7,
   "metadata": {},
   "outputs": [
    {
     "data": {
      "text/plain": [
       "id                 0\n",
       "type               0\n",
       "locality           0\n",
       "activation_date    0\n",
       "latitude           0\n",
       "longitude          0\n",
       "lease_type         0\n",
       "gym                0\n",
       "lift               0\n",
       "swimming_pool      0\n",
       "negotiable         0\n",
       "furnishing         0\n",
       "parking            0\n",
       "property_size      0\n",
       "property_age       0\n",
       "bathroom           0\n",
       "facing             0\n",
       "cup_board          0\n",
       "floor              0\n",
       "total_floor        0\n",
       "amenities          0\n",
       "water_supply       0\n",
       "building_type      0\n",
       "balconies          0\n",
       "rent               0\n",
       "deposit            0\n",
       "dtype: int64"
      ]
     },
     "execution_count": 7,
     "metadata": {},
     "output_type": "execute_result"
    }
   ],
   "source": [
    "#check for null values in dataset\n",
    "data.isnull().sum()"
   ]
  },
  {
   "cell_type": "code",
   "execution_count": 8,
   "metadata": {},
   "outputs": [
    {
     "name": "stdout",
     "output_type": "stream",
     "text": [
      "<class 'pandas.core.frame.DataFrame'>\n",
      "RangeIndex: 25000 entries, 0 to 24999\n",
      "Data columns (total 26 columns):\n",
      "id                 25000 non-null object\n",
      "type               25000 non-null object\n",
      "locality           25000 non-null object\n",
      "activation_date    25000 non-null object\n",
      "latitude           25000 non-null float64\n",
      "longitude          25000 non-null float64\n",
      "lease_type         25000 non-null object\n",
      "gym                25000 non-null int64\n",
      "lift               25000 non-null int64\n",
      "swimming_pool      25000 non-null int64\n",
      "negotiable         25000 non-null int64\n",
      "furnishing         25000 non-null object\n",
      "parking            25000 non-null object\n",
      "property_size      25000 non-null int64\n",
      "property_age       25000 non-null float64\n",
      "bathroom           25000 non-null int64\n",
      "facing             25000 non-null object\n",
      "cup_board          25000 non-null float64\n",
      "floor              25000 non-null int64\n",
      "total_floor        25000 non-null float64\n",
      "amenities          25000 non-null object\n",
      "water_supply       25000 non-null object\n",
      "building_type      25000 non-null object\n",
      "balconies          25000 non-null float64\n",
      "rent               25000 non-null int64\n",
      "deposit            25000 non-null float64\n",
      "dtypes: float64(7), int64(8), object(11)\n",
      "memory usage: 5.0+ MB\n"
     ]
    }
   ],
   "source": [
    "#determine the type of data for each feature\n",
    "data.info()"
   ]
  },
  {
   "cell_type": "markdown",
   "metadata": {},
   "source": [
    "DATA CLEANING"
   ]
  },
  {
   "cell_type": "code",
   "execution_count": 9,
   "metadata": {},
   "outputs": [],
   "source": [
    "#HANDLING CATEGORICAL VARIABLES"
   ]
  },
  {
   "cell_type": "code",
   "execution_count": 10,
   "metadata": {},
   "outputs": [
    {
     "data": {
      "text/plain": [
       "0    1061\n",
       "1     419\n",
       "2    1027\n",
       "3    1443\n",
       "4    2084\n",
       "Name: locality, dtype: int32"
      ]
     },
     "execution_count": 10,
     "metadata": {},
     "output_type": "execute_result"
    }
   ],
   "source": [
    "#Using label encoder to transform categorical data of locality feature into integer\n",
    "le=preprocessing.LabelEncoder()\n",
    "data['locality']=le.fit_transform(data['locality'])\n",
    "data['locality'].head()"
   ]
  },
  {
   "cell_type": "code",
   "execution_count": 11,
   "metadata": {},
   "outputs": [
    {
     "data": {
      "text/plain": [
       "(2177,)"
      ]
     },
     "execution_count": 11,
     "metadata": {},
     "output_type": "execute_result"
    }
   ],
   "source": [
    "#determining number of unique values in locality\n",
    "a=np.unique(data['locality'])\n",
    "a.shape"
   ]
  },
  {
   "cell_type": "code",
   "execution_count": 12,
   "metadata": {},
   "outputs": [],
   "source": [
    "#applying label encoder to other features containing categorical data\n",
    "data['type']=le.fit_transform(data['type'])\n",
    "data['lease_type']=le.fit_transform(data['lease_type'])\n",
    "data['furnishing']=le.fit_transform(data['furnishing'])\n",
    "data['parking']=le.fit_transform(data['parking'])\n",
    "data['facing']=le.fit_transform(data['facing'])\n",
    "data['water_supply']=le.fit_transform(data['water_supply'])\n",
    "data['building_type']=le.fit_transform(data['building_type'])"
   ]
  },
  {
   "cell_type": "code",
   "execution_count": 13,
   "metadata": {},
   "outputs": [
    {
     "data": {
      "text/html": [
       "<div>\n",
       "<style scoped>\n",
       "    .dataframe tbody tr th:only-of-type {\n",
       "        vertical-align: middle;\n",
       "    }\n",
       "\n",
       "    .dataframe tbody tr th {\n",
       "        vertical-align: top;\n",
       "    }\n",
       "\n",
       "    .dataframe thead th {\n",
       "        text-align: right;\n",
       "    }\n",
       "</style>\n",
       "<table border=\"1\" class=\"dataframe\">\n",
       "  <thead>\n",
       "    <tr style=\"text-align: right;\">\n",
       "      <th></th>\n",
       "      <th>id</th>\n",
       "      <th>type</th>\n",
       "      <th>locality</th>\n",
       "      <th>activation_date</th>\n",
       "      <th>latitude</th>\n",
       "      <th>longitude</th>\n",
       "      <th>lease_type</th>\n",
       "      <th>gym</th>\n",
       "      <th>lift</th>\n",
       "      <th>swimming_pool</th>\n",
       "      <th>...</th>\n",
       "      <th>facing</th>\n",
       "      <th>cup_board</th>\n",
       "      <th>floor</th>\n",
       "      <th>total_floor</th>\n",
       "      <th>amenities</th>\n",
       "      <th>water_supply</th>\n",
       "      <th>building_type</th>\n",
       "      <th>balconies</th>\n",
       "      <th>rent</th>\n",
       "      <th>deposit</th>\n",
       "    </tr>\n",
       "  </thead>\n",
       "  <tbody>\n",
       "    <tr>\n",
       "      <th>0</th>\n",
       "      <td>ff8081815917971401591af8895032d0</td>\n",
       "      <td>1</td>\n",
       "      <td>1061</td>\n",
       "      <td>2018-07-05 17:09:49</td>\n",
       "      <td>12.936601</td>\n",
       "      <td>77.576914</td>\n",
       "      <td>3</td>\n",
       "      <td>0</td>\n",
       "      <td>0</td>\n",
       "      <td>0</td>\n",
       "      <td>...</td>\n",
       "      <td>4</td>\n",
       "      <td>2.0</td>\n",
       "      <td>2</td>\n",
       "      <td>2.0</td>\n",
       "      <td>{\"LIFT\":false,\"GYM\":false,\"INTERNET\":false,\"AC...</td>\n",
       "      <td>2</td>\n",
       "      <td>2</td>\n",
       "      <td>1.0</td>\n",
       "      <td>22000</td>\n",
       "      <td>220000.0</td>\n",
       "    </tr>\n",
       "    <tr>\n",
       "      <th>1</th>\n",
       "      <td>ff80818157dbe1fb0157dc4aa07513dc</td>\n",
       "      <td>1</td>\n",
       "      <td>419</td>\n",
       "      <td>2017-12-30 17:22:12</td>\n",
       "      <td>12.997989</td>\n",
       "      <td>77.545219</td>\n",
       "      <td>3</td>\n",
       "      <td>0</td>\n",
       "      <td>0</td>\n",
       "      <td>0</td>\n",
       "      <td>...</td>\n",
       "      <td>7</td>\n",
       "      <td>2.0</td>\n",
       "      <td>0</td>\n",
       "      <td>1.0</td>\n",
       "      <td>{\"LIFT\":false,\"GYM\":false,\"INTERNET\":false,\"AC...</td>\n",
       "      <td>1</td>\n",
       "      <td>3</td>\n",
       "      <td>0.0</td>\n",
       "      <td>20000</td>\n",
       "      <td>200000.0</td>\n",
       "    </tr>\n",
       "    <tr>\n",
       "      <th>2</th>\n",
       "      <td>ff8081815d304406015d30edcd7c4f44</td>\n",
       "      <td>2</td>\n",
       "      <td>1027</td>\n",
       "      <td>2017-07-11 15:42:05</td>\n",
       "      <td>12.935696</td>\n",
       "      <td>77.587642</td>\n",
       "      <td>3</td>\n",
       "      <td>0</td>\n",
       "      <td>1</td>\n",
       "      <td>0</td>\n",
       "      <td>...</td>\n",
       "      <td>0</td>\n",
       "      <td>3.0</td>\n",
       "      <td>4</td>\n",
       "      <td>9.0</td>\n",
       "      <td>{\"LIFT\":true,\"GYM\":false,\"INTERNET\":true,\"AC\":...</td>\n",
       "      <td>1</td>\n",
       "      <td>0</td>\n",
       "      <td>2.0</td>\n",
       "      <td>38000</td>\n",
       "      <td>250000.0</td>\n",
       "    </tr>\n",
       "    <tr>\n",
       "      <th>3</th>\n",
       "      <td>ff8081815b106986015b154d908f2ac2</td>\n",
       "      <td>1</td>\n",
       "      <td>1443</td>\n",
       "      <td>2018-07-07 14:26:14</td>\n",
       "      <td>12.953507</td>\n",
       "      <td>77.656118</td>\n",
       "      <td>3</td>\n",
       "      <td>0</td>\n",
       "      <td>1</td>\n",
       "      <td>0</td>\n",
       "      <td>...</td>\n",
       "      <td>0</td>\n",
       "      <td>2.0</td>\n",
       "      <td>4</td>\n",
       "      <td>4.0</td>\n",
       "      <td>{\"LIFT\":true,\"GYM\":false,\"INTERNET\":true,\"AC\":...</td>\n",
       "      <td>0</td>\n",
       "      <td>0</td>\n",
       "      <td>1.0</td>\n",
       "      <td>30000</td>\n",
       "      <td>300000.0</td>\n",
       "    </tr>\n",
       "    <tr>\n",
       "      <th>4</th>\n",
       "      <td>ff8081815e80b789015e84a7a42a62a3</td>\n",
       "      <td>1</td>\n",
       "      <td>2084</td>\n",
       "      <td>2017-09-27 12:19:28</td>\n",
       "      <td>12.968520</td>\n",
       "      <td>77.742436</td>\n",
       "      <td>0</td>\n",
       "      <td>1</td>\n",
       "      <td>1</td>\n",
       "      <td>1</td>\n",
       "      <td>...</td>\n",
       "      <td>0</td>\n",
       "      <td>2.0</td>\n",
       "      <td>1</td>\n",
       "      <td>9.0</td>\n",
       "      <td>{\"LIFT\":true,\"GYM\":true,\"INTERNET\":true,\"AC\":f...</td>\n",
       "      <td>2</td>\n",
       "      <td>0</td>\n",
       "      <td>2.0</td>\n",
       "      <td>26500</td>\n",
       "      <td>150000.0</td>\n",
       "    </tr>\n",
       "  </tbody>\n",
       "</table>\n",
       "<p>5 rows × 26 columns</p>\n",
       "</div>"
      ],
      "text/plain": [
       "                                 id  type  locality      activation_date  \\\n",
       "0  ff8081815917971401591af8895032d0     1      1061  2018-07-05 17:09:49   \n",
       "1  ff80818157dbe1fb0157dc4aa07513dc     1       419  2017-12-30 17:22:12   \n",
       "2  ff8081815d304406015d30edcd7c4f44     2      1027  2017-07-11 15:42:05   \n",
       "3  ff8081815b106986015b154d908f2ac2     1      1443  2018-07-07 14:26:14   \n",
       "4  ff8081815e80b789015e84a7a42a62a3     1      2084  2017-09-27 12:19:28   \n",
       "\n",
       "    latitude  longitude  lease_type  gym  lift  swimming_pool  ...  facing  \\\n",
       "0  12.936601  77.576914           3    0     0              0  ...       4   \n",
       "1  12.997989  77.545219           3    0     0              0  ...       7   \n",
       "2  12.935696  77.587642           3    0     1              0  ...       0   \n",
       "3  12.953507  77.656118           3    0     1              0  ...       0   \n",
       "4  12.968520  77.742436           0    1     1              1  ...       0   \n",
       "\n",
       "   cup_board  floor  total_floor  \\\n",
       "0        2.0      2          2.0   \n",
       "1        2.0      0          1.0   \n",
       "2        3.0      4          9.0   \n",
       "3        2.0      4          4.0   \n",
       "4        2.0      1          9.0   \n",
       "\n",
       "                                           amenities  water_supply  \\\n",
       "0  {\"LIFT\":false,\"GYM\":false,\"INTERNET\":false,\"AC...             2   \n",
       "1  {\"LIFT\":false,\"GYM\":false,\"INTERNET\":false,\"AC...             1   \n",
       "2  {\"LIFT\":true,\"GYM\":false,\"INTERNET\":true,\"AC\":...             1   \n",
       "3  {\"LIFT\":true,\"GYM\":false,\"INTERNET\":true,\"AC\":...             0   \n",
       "4  {\"LIFT\":true,\"GYM\":true,\"INTERNET\":true,\"AC\":f...             2   \n",
       "\n",
       "   building_type  balconies   rent   deposit  \n",
       "0              2        1.0  22000  220000.0  \n",
       "1              3        0.0  20000  200000.0  \n",
       "2              0        2.0  38000  250000.0  \n",
       "3              0        1.0  30000  300000.0  \n",
       "4              0        2.0  26500  150000.0  \n",
       "\n",
       "[5 rows x 26 columns]"
      ]
     },
     "execution_count": 13,
     "metadata": {},
     "output_type": "execute_result"
    }
   ],
   "source": [
    "data.head()"
   ]
  },
  {
   "cell_type": "code",
   "execution_count": 14,
   "metadata": {},
   "outputs": [
    {
     "data": {
      "text/plain": [
       "0    {\"LIFT\":false,\"GYM\":false,\"INTERNET\":false,\"AC...\n",
       "1    {\"LIFT\":false,\"GYM\":false,\"INTERNET\":false,\"AC...\n",
       "2    {\"LIFT\":true,\"GYM\":false,\"INTERNET\":true,\"AC\":...\n",
       "3    {\"LIFT\":true,\"GYM\":false,\"INTERNET\":true,\"AC\":...\n",
       "4    {\"LIFT\":true,\"GYM\":true,\"INTERNET\":true,\"AC\":f...\n",
       "Name: amenities, dtype: object"
      ]
     },
     "execution_count": 14,
     "metadata": {},
     "output_type": "execute_result"
    }
   ],
   "source": [
    "#working with amenities feature\n",
    "data['amenities'].head()"
   ]
  },
  {
   "cell_type": "code",
   "execution_count": 15,
   "metadata": {},
   "outputs": [
    {
     "data": {
      "text/plain": [
       "0    {\"LIFT\":0,\"GYM\":0,\"INTERNET\":0,\"AC\":0,\"CLUB\":0...\n",
       "1    {\"LIFT\":0,\"GYM\":0,\"INTERNET\":0,\"AC\":0,\"CLUB\":0...\n",
       "2    {\"LIFT\":1,\"GYM\":0,\"INTERNET\":1,\"AC\":0,\"CLUB\":1...\n",
       "3    {\"LIFT\":1,\"GYM\":0,\"INTERNET\":1,\"AC\":0,\"CLUB\":0...\n",
       "4    {\"LIFT\":1,\"GYM\":1,\"INTERNET\":1,\"AC\":0,\"CLUB\":1...\n",
       "Name: amenities, dtype: object"
      ]
     },
     "execution_count": 15,
     "metadata": {},
     "output_type": "execute_result"
    }
   ],
   "source": [
    "#replacing true and false in amenities feature with 1 and 0 respectively\n",
    "data['amenities']=data['amenities'].str.replace('false','0')\n",
    "data['amenities']=data['amenities'].str.replace('true','1') \n",
    "data['amenities'].head()"
   ]
  },
  {
   "cell_type": "code",
   "execution_count": 16,
   "metadata": {},
   "outputs": [
    {
     "data": {
      "text/html": [
       "<div>\n",
       "<style scoped>\n",
       "    .dataframe tbody tr th:only-of-type {\n",
       "        vertical-align: middle;\n",
       "    }\n",
       "\n",
       "    .dataframe tbody tr th {\n",
       "        vertical-align: top;\n",
       "    }\n",
       "\n",
       "    .dataframe thead th {\n",
       "        text-align: right;\n",
       "    }\n",
       "</style>\n",
       "<table border=\"1\" class=\"dataframe\">\n",
       "  <thead>\n",
       "    <tr style=\"text-align: right;\">\n",
       "      <th></th>\n",
       "      <th>LIFT</th>\n",
       "      <th>GYM</th>\n",
       "      <th>INTERNET</th>\n",
       "      <th>AC</th>\n",
       "      <th>CLUB</th>\n",
       "      <th>INTERCOM</th>\n",
       "      <th>POOL</th>\n",
       "      <th>CPA</th>\n",
       "      <th>FS</th>\n",
       "      <th>SERVANT</th>\n",
       "      <th>SECURITY</th>\n",
       "      <th>SC</th>\n",
       "      <th>GP</th>\n",
       "      <th>PARK</th>\n",
       "      <th>RWH</th>\n",
       "      <th>STP</th>\n",
       "      <th>HK</th>\n",
       "      <th>PB</th>\n",
       "      <th>VP</th>\n",
       "    </tr>\n",
       "  </thead>\n",
       "  <tbody>\n",
       "    <tr>\n",
       "      <th>0</th>\n",
       "      <td>0.0</td>\n",
       "      <td>0.0</td>\n",
       "      <td>0.0</td>\n",
       "      <td>0.0</td>\n",
       "      <td>0.0</td>\n",
       "      <td>0.0</td>\n",
       "      <td>0.0</td>\n",
       "      <td>0.0</td>\n",
       "      <td>0.0</td>\n",
       "      <td>0.0</td>\n",
       "      <td>0.0</td>\n",
       "      <td>0.0</td>\n",
       "      <td>0.0</td>\n",
       "      <td>0.0</td>\n",
       "      <td>0.0</td>\n",
       "      <td>0.0</td>\n",
       "      <td>0.0</td>\n",
       "      <td>0.0</td>\n",
       "      <td>0.0</td>\n",
       "    </tr>\n",
       "    <tr>\n",
       "      <th>1</th>\n",
       "      <td>0.0</td>\n",
       "      <td>0.0</td>\n",
       "      <td>0.0</td>\n",
       "      <td>0.0</td>\n",
       "      <td>0.0</td>\n",
       "      <td>0.0</td>\n",
       "      <td>0.0</td>\n",
       "      <td>1.0</td>\n",
       "      <td>0.0</td>\n",
       "      <td>0.0</td>\n",
       "      <td>0.0</td>\n",
       "      <td>1.0</td>\n",
       "      <td>0.0</td>\n",
       "      <td>1.0</td>\n",
       "      <td>0.0</td>\n",
       "      <td>0.0</td>\n",
       "      <td>0.0</td>\n",
       "      <td>0.0</td>\n",
       "      <td>0.0</td>\n",
       "    </tr>\n",
       "    <tr>\n",
       "      <th>2</th>\n",
       "      <td>1.0</td>\n",
       "      <td>0.0</td>\n",
       "      <td>1.0</td>\n",
       "      <td>0.0</td>\n",
       "      <td>1.0</td>\n",
       "      <td>1.0</td>\n",
       "      <td>0.0</td>\n",
       "      <td>1.0</td>\n",
       "      <td>1.0</td>\n",
       "      <td>0.0</td>\n",
       "      <td>1.0</td>\n",
       "      <td>1.0</td>\n",
       "      <td>1.0</td>\n",
       "      <td>1.0</td>\n",
       "      <td>1.0</td>\n",
       "      <td>0.0</td>\n",
       "      <td>0.0</td>\n",
       "      <td>1.0</td>\n",
       "      <td>0.0</td>\n",
       "    </tr>\n",
       "    <tr>\n",
       "      <th>3</th>\n",
       "      <td>1.0</td>\n",
       "      <td>0.0</td>\n",
       "      <td>1.0</td>\n",
       "      <td>0.0</td>\n",
       "      <td>0.0</td>\n",
       "      <td>0.0</td>\n",
       "      <td>0.0</td>\n",
       "      <td>1.0</td>\n",
       "      <td>0.0</td>\n",
       "      <td>0.0</td>\n",
       "      <td>0.0</td>\n",
       "      <td>0.0</td>\n",
       "      <td>1.0</td>\n",
       "      <td>0.0</td>\n",
       "      <td>0.0</td>\n",
       "      <td>0.0</td>\n",
       "      <td>0.0</td>\n",
       "      <td>1.0</td>\n",
       "      <td>1.0</td>\n",
       "    </tr>\n",
       "    <tr>\n",
       "      <th>4</th>\n",
       "      <td>1.0</td>\n",
       "      <td>1.0</td>\n",
       "      <td>1.0</td>\n",
       "      <td>0.0</td>\n",
       "      <td>1.0</td>\n",
       "      <td>1.0</td>\n",
       "      <td>1.0</td>\n",
       "      <td>1.0</td>\n",
       "      <td>1.0</td>\n",
       "      <td>1.0</td>\n",
       "      <td>1.0</td>\n",
       "      <td>1.0</td>\n",
       "      <td>0.0</td>\n",
       "      <td>1.0</td>\n",
       "      <td>1.0</td>\n",
       "      <td>1.0</td>\n",
       "      <td>1.0</td>\n",
       "      <td>1.0</td>\n",
       "      <td>1.0</td>\n",
       "    </tr>\n",
       "  </tbody>\n",
       "</table>\n",
       "</div>"
      ],
      "text/plain": [
       "   LIFT  GYM  INTERNET   AC  CLUB  INTERCOM  POOL  CPA   FS  SERVANT  \\\n",
       "0   0.0  0.0       0.0  0.0   0.0       0.0   0.0  0.0  0.0      0.0   \n",
       "1   0.0  0.0       0.0  0.0   0.0       0.0   0.0  1.0  0.0      0.0   \n",
       "2   1.0  0.0       1.0  0.0   1.0       1.0   0.0  1.0  1.0      0.0   \n",
       "3   1.0  0.0       1.0  0.0   0.0       0.0   0.0  1.0  0.0      0.0   \n",
       "4   1.0  1.0       1.0  0.0   1.0       1.0   1.0  1.0  1.0      1.0   \n",
       "\n",
       "   SECURITY   SC   GP  PARK  RWH  STP   HK   PB   VP  \n",
       "0       0.0  0.0  0.0   0.0  0.0  0.0  0.0  0.0  0.0  \n",
       "1       0.0  1.0  0.0   1.0  0.0  0.0  0.0  0.0  0.0  \n",
       "2       1.0  1.0  1.0   1.0  1.0  0.0  0.0  1.0  0.0  \n",
       "3       0.0  0.0  1.0   0.0  0.0  0.0  0.0  1.0  1.0  \n",
       "4       1.0  1.0  0.0   1.0  1.0  1.0  1.0  1.0  1.0  "
      ]
     },
     "execution_count": 16,
     "metadata": {},
     "output_type": "execute_result"
    }
   ],
   "source": [
    "#splitting the amenities feature into various columns\n",
    "df1 = data\n",
    "df1[\"amenities\"] = df1[\"amenities\"].apply(lambda x : dict(eval(str(x)))) #parses the string\n",
    "df2 = df1[\"amenities\"].apply(pd.Series )\n",
    "df2.head()"
   ]
  },
  {
   "cell_type": "code",
   "execution_count": 17,
   "metadata": {},
   "outputs": [
    {
     "data": {
      "text/html": [
       "<div>\n",
       "<style scoped>\n",
       "    .dataframe tbody tr th:only-of-type {\n",
       "        vertical-align: middle;\n",
       "    }\n",
       "\n",
       "    .dataframe tbody tr th {\n",
       "        vertical-align: top;\n",
       "    }\n",
       "\n",
       "    .dataframe thead th {\n",
       "        text-align: right;\n",
       "    }\n",
       "</style>\n",
       "<table border=\"1\" class=\"dataframe\">\n",
       "  <thead>\n",
       "    <tr style=\"text-align: right;\">\n",
       "      <th></th>\n",
       "      <th>id</th>\n",
       "      <th>type</th>\n",
       "      <th>locality</th>\n",
       "      <th>activation_date</th>\n",
       "      <th>latitude</th>\n",
       "      <th>longitude</th>\n",
       "      <th>lease_type</th>\n",
       "      <th>gym</th>\n",
       "      <th>lift</th>\n",
       "      <th>swimming_pool</th>\n",
       "      <th>...</th>\n",
       "      <th>SERVANT</th>\n",
       "      <th>SECURITY</th>\n",
       "      <th>SC</th>\n",
       "      <th>GP</th>\n",
       "      <th>PARK</th>\n",
       "      <th>RWH</th>\n",
       "      <th>STP</th>\n",
       "      <th>HK</th>\n",
       "      <th>PB</th>\n",
       "      <th>VP</th>\n",
       "    </tr>\n",
       "  </thead>\n",
       "  <tbody>\n",
       "    <tr>\n",
       "      <th>0</th>\n",
       "      <td>ff8081815917971401591af8895032d0</td>\n",
       "      <td>1</td>\n",
       "      <td>1061</td>\n",
       "      <td>2018-07-05 17:09:49</td>\n",
       "      <td>12.936601</td>\n",
       "      <td>77.576914</td>\n",
       "      <td>3</td>\n",
       "      <td>0</td>\n",
       "      <td>0</td>\n",
       "      <td>0</td>\n",
       "      <td>...</td>\n",
       "      <td>0.0</td>\n",
       "      <td>0.0</td>\n",
       "      <td>0.0</td>\n",
       "      <td>0.0</td>\n",
       "      <td>0.0</td>\n",
       "      <td>0.0</td>\n",
       "      <td>0.0</td>\n",
       "      <td>0.0</td>\n",
       "      <td>0.0</td>\n",
       "      <td>0.0</td>\n",
       "    </tr>\n",
       "    <tr>\n",
       "      <th>1</th>\n",
       "      <td>ff80818157dbe1fb0157dc4aa07513dc</td>\n",
       "      <td>1</td>\n",
       "      <td>419</td>\n",
       "      <td>2017-12-30 17:22:12</td>\n",
       "      <td>12.997989</td>\n",
       "      <td>77.545219</td>\n",
       "      <td>3</td>\n",
       "      <td>0</td>\n",
       "      <td>0</td>\n",
       "      <td>0</td>\n",
       "      <td>...</td>\n",
       "      <td>0.0</td>\n",
       "      <td>0.0</td>\n",
       "      <td>1.0</td>\n",
       "      <td>0.0</td>\n",
       "      <td>1.0</td>\n",
       "      <td>0.0</td>\n",
       "      <td>0.0</td>\n",
       "      <td>0.0</td>\n",
       "      <td>0.0</td>\n",
       "      <td>0.0</td>\n",
       "    </tr>\n",
       "    <tr>\n",
       "      <th>2</th>\n",
       "      <td>ff8081815d304406015d30edcd7c4f44</td>\n",
       "      <td>2</td>\n",
       "      <td>1027</td>\n",
       "      <td>2017-07-11 15:42:05</td>\n",
       "      <td>12.935696</td>\n",
       "      <td>77.587642</td>\n",
       "      <td>3</td>\n",
       "      <td>0</td>\n",
       "      <td>1</td>\n",
       "      <td>0</td>\n",
       "      <td>...</td>\n",
       "      <td>0.0</td>\n",
       "      <td>1.0</td>\n",
       "      <td>1.0</td>\n",
       "      <td>1.0</td>\n",
       "      <td>1.0</td>\n",
       "      <td>1.0</td>\n",
       "      <td>0.0</td>\n",
       "      <td>0.0</td>\n",
       "      <td>1.0</td>\n",
       "      <td>0.0</td>\n",
       "    </tr>\n",
       "    <tr>\n",
       "      <th>3</th>\n",
       "      <td>ff8081815b106986015b154d908f2ac2</td>\n",
       "      <td>1</td>\n",
       "      <td>1443</td>\n",
       "      <td>2018-07-07 14:26:14</td>\n",
       "      <td>12.953507</td>\n",
       "      <td>77.656118</td>\n",
       "      <td>3</td>\n",
       "      <td>0</td>\n",
       "      <td>1</td>\n",
       "      <td>0</td>\n",
       "      <td>...</td>\n",
       "      <td>0.0</td>\n",
       "      <td>0.0</td>\n",
       "      <td>0.0</td>\n",
       "      <td>1.0</td>\n",
       "      <td>0.0</td>\n",
       "      <td>0.0</td>\n",
       "      <td>0.0</td>\n",
       "      <td>0.0</td>\n",
       "      <td>1.0</td>\n",
       "      <td>1.0</td>\n",
       "    </tr>\n",
       "    <tr>\n",
       "      <th>4</th>\n",
       "      <td>ff8081815e80b789015e84a7a42a62a3</td>\n",
       "      <td>1</td>\n",
       "      <td>2084</td>\n",
       "      <td>2017-09-27 12:19:28</td>\n",
       "      <td>12.968520</td>\n",
       "      <td>77.742436</td>\n",
       "      <td>0</td>\n",
       "      <td>1</td>\n",
       "      <td>1</td>\n",
       "      <td>1</td>\n",
       "      <td>...</td>\n",
       "      <td>1.0</td>\n",
       "      <td>1.0</td>\n",
       "      <td>1.0</td>\n",
       "      <td>0.0</td>\n",
       "      <td>1.0</td>\n",
       "      <td>1.0</td>\n",
       "      <td>1.0</td>\n",
       "      <td>1.0</td>\n",
       "      <td>1.0</td>\n",
       "      <td>1.0</td>\n",
       "    </tr>\n",
       "  </tbody>\n",
       "</table>\n",
       "<p>5 rows × 45 columns</p>\n",
       "</div>"
      ],
      "text/plain": [
       "                                 id  type  locality      activation_date  \\\n",
       "0  ff8081815917971401591af8895032d0     1      1061  2018-07-05 17:09:49   \n",
       "1  ff80818157dbe1fb0157dc4aa07513dc     1       419  2017-12-30 17:22:12   \n",
       "2  ff8081815d304406015d30edcd7c4f44     2      1027  2017-07-11 15:42:05   \n",
       "3  ff8081815b106986015b154d908f2ac2     1      1443  2018-07-07 14:26:14   \n",
       "4  ff8081815e80b789015e84a7a42a62a3     1      2084  2017-09-27 12:19:28   \n",
       "\n",
       "    latitude  longitude  lease_type  gym  lift  swimming_pool  ...  SERVANT  \\\n",
       "0  12.936601  77.576914           3    0     0              0  ...      0.0   \n",
       "1  12.997989  77.545219           3    0     0              0  ...      0.0   \n",
       "2  12.935696  77.587642           3    0     1              0  ...      0.0   \n",
       "3  12.953507  77.656118           3    0     1              0  ...      0.0   \n",
       "4  12.968520  77.742436           0    1     1              1  ...      1.0   \n",
       "\n",
       "   SECURITY   SC   GP  PARK  RWH  STP   HK   PB   VP  \n",
       "0       0.0  0.0  0.0   0.0  0.0  0.0  0.0  0.0  0.0  \n",
       "1       0.0  1.0  0.0   1.0  0.0  0.0  0.0  0.0  0.0  \n",
       "2       1.0  1.0  1.0   1.0  1.0  0.0  0.0  1.0  0.0  \n",
       "3       0.0  0.0  1.0   0.0  0.0  0.0  0.0  1.0  1.0  \n",
       "4       1.0  1.0  0.0   1.0  1.0  1.0  1.0  1.0  1.0  \n",
       "\n",
       "[5 rows x 45 columns]"
      ]
     },
     "execution_count": 17,
     "metadata": {},
     "output_type": "execute_result"
    }
   ],
   "source": [
    "#concatenating the above columns in the original dataset\n",
    "data = pd.concat([data, df2], axis=1)\n",
    "data.head()"
   ]
  },
  {
   "cell_type": "code",
   "execution_count": 18,
   "metadata": {},
   "outputs": [
    {
     "data": {
      "text/plain": [
       "Index(['id', 'type', 'locality', 'activation_date', 'latitude', 'longitude',\n",
       "       'lease_type', 'gym', 'lift', 'swimming_pool', 'negotiable',\n",
       "       'furnishing', 'parking', 'property_size', 'property_age', 'bathroom',\n",
       "       'facing', 'cup_board', 'floor', 'total_floor', 'amenities',\n",
       "       'water_supply', 'building_type', 'balconies', 'rent', 'deposit', 'LIFT',\n",
       "       'GYM', 'INTERNET', 'AC', 'CLUB', 'INTERCOM', 'POOL', 'CPA', 'FS',\n",
       "       'SERVANT', 'SECURITY', 'SC', 'GP', 'PARK', 'RWH', 'STP', 'HK', 'PB',\n",
       "       'VP'],\n",
       "      dtype='object')"
      ]
     },
     "execution_count": 18,
     "metadata": {},
     "output_type": "execute_result"
    }
   ],
   "source": [
    "#view all columns in the dataset now\n",
    "data.columns"
   ]
  },
  {
   "cell_type": "code",
   "execution_count": 19,
   "metadata": {},
   "outputs": [],
   "source": [
    "#dropping repeated columns\n",
    "data.drop(['amenities','GYM','LIFT','POOL'],axis=1,inplace=True)"
   ]
  },
  {
   "cell_type": "code",
   "execution_count": 20,
   "metadata": {},
   "outputs": [
    {
     "data": {
      "text/plain": [
       "Index(['id', 'type', 'locality', 'activation_date', 'latitude', 'longitude',\n",
       "       'lease_type', 'gym', 'lift', 'swimming_pool', 'negotiable',\n",
       "       'furnishing', 'parking', 'property_size', 'property_age', 'bathroom',\n",
       "       'facing', 'cup_board', 'floor', 'total_floor', 'water_supply',\n",
       "       'building_type', 'balconies', 'rent', 'deposit', 'INTERNET', 'AC',\n",
       "       'CLUB', 'INTERCOM', 'CPA', 'FS', 'SERVANT', 'SECURITY', 'SC', 'GP',\n",
       "       'PARK', 'RWH', 'STP', 'HK', 'PB', 'VP'],\n",
       "      dtype='object')"
      ]
     },
     "execution_count": 20,
     "metadata": {},
     "output_type": "execute_result"
    }
   ],
   "source": [
    "#view all columns in the dataset now\n",
    "data.columns"
   ]
  },
  {
   "cell_type": "code",
   "execution_count": 21,
   "metadata": {},
   "outputs": [
    {
     "data": {
      "text/plain": [
       "id                    0\n",
       "type                  0\n",
       "locality              0\n",
       "activation_date       0\n",
       "latitude              0\n",
       "longitude             0\n",
       "lease_type            0\n",
       "gym                   0\n",
       "lift                  0\n",
       "swimming_pool         0\n",
       "negotiable            0\n",
       "furnishing            0\n",
       "parking               0\n",
       "property_size         0\n",
       "property_age          0\n",
       "bathroom              0\n",
       "facing                0\n",
       "cup_board             0\n",
       "floor                 0\n",
       "total_floor           0\n",
       "water_supply          0\n",
       "building_type         0\n",
       "balconies             0\n",
       "rent                  0\n",
       "deposit               0\n",
       "INTERNET              0\n",
       "AC                    0\n",
       "CLUB               1283\n",
       "INTERCOM              0\n",
       "CPA                1283\n",
       "FS                    0\n",
       "SERVANT            1283\n",
       "SECURITY              0\n",
       "SC                    0\n",
       "GP                 1283\n",
       "PARK                  0\n",
       "RWH                1283\n",
       "STP                1283\n",
       "HK                    0\n",
       "PB                    0\n",
       "VP                 1283\n",
       "dtype: int64"
      ]
     },
     "execution_count": 21,
     "metadata": {},
     "output_type": "execute_result"
    }
   ],
   "source": [
    "#checking null values in the dataset for the added columns\n",
    "data.isnull().sum()"
   ]
  },
  {
   "cell_type": "code",
   "execution_count": 22,
   "metadata": {},
   "outputs": [],
   "source": [
    "#filling null values in columns with 0 as no information about these amenities is given\n",
    "data[['CLUB','CPA','GP','RWH','SERVANT','STP','VP']] = data[['CLUB','CPA','GP','RWH','SERVANT','STP','VP']].fillna(0,axis = 1,inplace=False)"
   ]
  },
  {
   "cell_type": "code",
   "execution_count": 23,
   "metadata": {},
   "outputs": [
    {
     "data": {
      "text/plain": [
       "id                 0\n",
       "type               0\n",
       "locality           0\n",
       "activation_date    0\n",
       "latitude           0\n",
       "longitude          0\n",
       "lease_type         0\n",
       "gym                0\n",
       "lift               0\n",
       "swimming_pool      0\n",
       "negotiable         0\n",
       "furnishing         0\n",
       "parking            0\n",
       "property_size      0\n",
       "property_age       0\n",
       "bathroom           0\n",
       "facing             0\n",
       "cup_board          0\n",
       "floor              0\n",
       "total_floor        0\n",
       "water_supply       0\n",
       "building_type      0\n",
       "balconies          0\n",
       "rent               0\n",
       "deposit            0\n",
       "INTERNET           0\n",
       "AC                 0\n",
       "CLUB               0\n",
       "INTERCOM           0\n",
       "CPA                0\n",
       "FS                 0\n",
       "SERVANT            0\n",
       "SECURITY           0\n",
       "SC                 0\n",
       "GP                 0\n",
       "PARK               0\n",
       "RWH                0\n",
       "STP                0\n",
       "HK                 0\n",
       "PB                 0\n",
       "VP                 0\n",
       "dtype: int64"
      ]
     },
     "execution_count": 23,
     "metadata": {},
     "output_type": "execute_result"
    }
   ],
   "source": [
    "data.isnull().sum()"
   ]
  },
  {
   "cell_type": "code",
   "execution_count": 24,
   "metadata": {},
   "outputs": [
    {
     "data": {
      "text/plain": [
       "<matplotlib.axes._subplots.AxesSubplot at 0x1dae7c93f60>"
      ]
     },
     "execution_count": 24,
     "metadata": {},
     "output_type": "execute_result"
    },
    {
     "data": {
      "image/png": "[encoded data removed]",
      "text/plain": [
       "<Figure size 720x360 with 2 Axes>"
      ]
     },
     "metadata": {
      "needs_background": "light"
     },
     "output_type": "display_data"
    }
   ],
   "source": [
    "#null values via heatmap\n",
    "pt.figure(figsize=(10,5))\n",
    "sns.heatmap(data.isnull(),yticklabels=False,cmap = 'viridis')"
   ]
  },
  {
   "cell_type": "markdown",
   "metadata": {},
   "source": [
    "FEATURE ENGINEERING"
   ]
  },
  {
   "cell_type": "code",
   "execution_count": 25,
   "metadata": {},
   "outputs": [
    {
     "data": {
      "text/html": [
       "<div>\n",
       "<style scoped>\n",
       "    .dataframe tbody tr th:only-of-type {\n",
       "        vertical-align: middle;\n",
       "    }\n",
       "\n",
       "    .dataframe tbody tr th {\n",
       "        vertical-align: top;\n",
       "    }\n",
       "\n",
       "    .dataframe thead th {\n",
       "        text-align: right;\n",
       "    }\n",
       "</style>\n",
       "<table border=\"1\" class=\"dataframe\">\n",
       "  <thead>\n",
       "    <tr style=\"text-align: right;\">\n",
       "      <th></th>\n",
       "      <th>id</th>\n",
       "      <th>type</th>\n",
       "      <th>locality</th>\n",
       "      <th>activation_date</th>\n",
       "      <th>latitude</th>\n",
       "      <th>longitude</th>\n",
       "      <th>lease_type</th>\n",
       "      <th>gym</th>\n",
       "      <th>lift</th>\n",
       "      <th>swimming_pool</th>\n",
       "      <th>...</th>\n",
       "      <th>SERVANT</th>\n",
       "      <th>SECURITY</th>\n",
       "      <th>SC</th>\n",
       "      <th>GP</th>\n",
       "      <th>PARK</th>\n",
       "      <th>RWH</th>\n",
       "      <th>STP</th>\n",
       "      <th>HK</th>\n",
       "      <th>PB</th>\n",
       "      <th>VP</th>\n",
       "    </tr>\n",
       "  </thead>\n",
       "  <tbody>\n",
       "    <tr>\n",
       "      <th>0</th>\n",
       "      <td>ff8081815917971401591af8895032d0</td>\n",
       "      <td>1</td>\n",
       "      <td>1061</td>\n",
       "      <td>2018-07-05 17:09:49</td>\n",
       "      <td>12.936601</td>\n",
       "      <td>77.576914</td>\n",
       "      <td>3</td>\n",
       "      <td>0</td>\n",
       "      <td>0</td>\n",
       "      <td>0</td>\n",
       "      <td>...</td>\n",
       "      <td>0.0</td>\n",
       "      <td>0.0</td>\n",
       "      <td>0.0</td>\n",
       "      <td>0.0</td>\n",
       "      <td>0.0</td>\n",
       "      <td>0.0</td>\n",
       "      <td>0.0</td>\n",
       "      <td>0.0</td>\n",
       "      <td>0.0</td>\n",
       "      <td>0.0</td>\n",
       "    </tr>\n",
       "    <tr>\n",
       "      <th>1</th>\n",
       "      <td>ff80818157dbe1fb0157dc4aa07513dc</td>\n",
       "      <td>1</td>\n",
       "      <td>419</td>\n",
       "      <td>2017-12-30 17:22:12</td>\n",
       "      <td>12.997989</td>\n",
       "      <td>77.545219</td>\n",
       "      <td>3</td>\n",
       "      <td>0</td>\n",
       "      <td>0</td>\n",
       "      <td>0</td>\n",
       "      <td>...</td>\n",
       "      <td>0.0</td>\n",
       "      <td>0.0</td>\n",
       "      <td>1.0</td>\n",
       "      <td>0.0</td>\n",
       "      <td>1.0</td>\n",
       "      <td>0.0</td>\n",
       "      <td>0.0</td>\n",
       "      <td>0.0</td>\n",
       "      <td>0.0</td>\n",
       "      <td>0.0</td>\n",
       "    </tr>\n",
       "    <tr>\n",
       "      <th>2</th>\n",
       "      <td>ff8081815d304406015d30edcd7c4f44</td>\n",
       "      <td>2</td>\n",
       "      <td>1027</td>\n",
       "      <td>2017-07-11 15:42:05</td>\n",
       "      <td>12.935696</td>\n",
       "      <td>77.587642</td>\n",
       "      <td>3</td>\n",
       "      <td>0</td>\n",
       "      <td>1</td>\n",
       "      <td>0</td>\n",
       "      <td>...</td>\n",
       "      <td>0.0</td>\n",
       "      <td>1.0</td>\n",
       "      <td>1.0</td>\n",
       "      <td>1.0</td>\n",
       "      <td>1.0</td>\n",
       "      <td>1.0</td>\n",
       "      <td>0.0</td>\n",
       "      <td>0.0</td>\n",
       "      <td>1.0</td>\n",
       "      <td>0.0</td>\n",
       "    </tr>\n",
       "    <tr>\n",
       "      <th>3</th>\n",
       "      <td>ff8081815b106986015b154d908f2ac2</td>\n",
       "      <td>1</td>\n",
       "      <td>1443</td>\n",
       "      <td>2018-07-07 14:26:14</td>\n",
       "      <td>12.953507</td>\n",
       "      <td>77.656118</td>\n",
       "      <td>3</td>\n",
       "      <td>0</td>\n",
       "      <td>1</td>\n",
       "      <td>0</td>\n",
       "      <td>...</td>\n",
       "      <td>0.0</td>\n",
       "      <td>0.0</td>\n",
       "      <td>0.0</td>\n",
       "      <td>1.0</td>\n",
       "      <td>0.0</td>\n",
       "      <td>0.0</td>\n",
       "      <td>0.0</td>\n",
       "      <td>0.0</td>\n",
       "      <td>1.0</td>\n",
       "      <td>1.0</td>\n",
       "    </tr>\n",
       "    <tr>\n",
       "      <th>4</th>\n",
       "      <td>ff8081815e80b789015e84a7a42a62a3</td>\n",
       "      <td>1</td>\n",
       "      <td>2084</td>\n",
       "      <td>2017-09-27 12:19:28</td>\n",
       "      <td>12.968520</td>\n",
       "      <td>77.742436</td>\n",
       "      <td>0</td>\n",
       "      <td>1</td>\n",
       "      <td>1</td>\n",
       "      <td>1</td>\n",
       "      <td>...</td>\n",
       "      <td>1.0</td>\n",
       "      <td>1.0</td>\n",
       "      <td>1.0</td>\n",
       "      <td>0.0</td>\n",
       "      <td>1.0</td>\n",
       "      <td>1.0</td>\n",
       "      <td>1.0</td>\n",
       "      <td>1.0</td>\n",
       "      <td>1.0</td>\n",
       "      <td>1.0</td>\n",
       "    </tr>\n",
       "  </tbody>\n",
       "</table>\n",
       "<p>5 rows × 41 columns</p>\n",
       "</div>"
      ],
      "text/plain": [
       "                                 id  type  locality      activation_date  \\\n",
       "0  ff8081815917971401591af8895032d0     1      1061  2018-07-05 17:09:49   \n",
       "1  ff80818157dbe1fb0157dc4aa07513dc     1       419  2017-12-30 17:22:12   \n",
       "2  ff8081815d304406015d30edcd7c4f44     2      1027  2017-07-11 15:42:05   \n",
       "3  ff8081815b106986015b154d908f2ac2     1      1443  2018-07-07 14:26:14   \n",
       "4  ff8081815e80b789015e84a7a42a62a3     1      2084  2017-09-27 12:19:28   \n",
       "\n",
       "    latitude  longitude  lease_type  gym  lift  swimming_pool  ...  SERVANT  \\\n",
       "0  12.936601  77.576914           3    0     0              0  ...      0.0   \n",
       "1  12.997989  77.545219           3    0     0              0  ...      0.0   \n",
       "2  12.935696  77.587642           3    0     1              0  ...      0.0   \n",
       "3  12.953507  77.656118           3    0     1              0  ...      0.0   \n",
       "4  12.968520  77.742436           0    1     1              1  ...      1.0   \n",
       "\n",
       "   SECURITY   SC   GP  PARK  RWH  STP   HK   PB   VP  \n",
       "0       0.0  0.0  0.0   0.0  0.0  0.0  0.0  0.0  0.0  \n",
       "1       0.0  1.0  0.0   1.0  0.0  0.0  0.0  0.0  0.0  \n",
       "2       1.0  1.0  1.0   1.0  1.0  0.0  0.0  1.0  0.0  \n",
       "3       0.0  0.0  1.0   0.0  0.0  0.0  0.0  1.0  1.0  \n",
       "4       1.0  1.0  0.0   1.0  1.0  1.0  1.0  1.0  1.0  \n",
       "\n",
       "[5 rows x 41 columns]"
      ]
     },
     "execution_count": 25,
     "metadata": {},
     "output_type": "execute_result"
    }
   ],
   "source": [
    "data.head()"
   ]
  },
  {
   "cell_type": "code",
   "execution_count": 26,
   "metadata": {},
   "outputs": [],
   "source": [
    "#dropping id as rent is not dependent on it\n",
    "#dropping activation_date as we already have property age feature\n",
    "data.drop([\"id\",\"activation_date\"],axis=1,inplace=True)"
   ]
  },
  {
   "cell_type": "code",
   "execution_count": 27,
   "metadata": {},
   "outputs": [
    {
     "data": {
      "text/html": [
       "<div>\n",
       "<style scoped>\n",
       "    .dataframe tbody tr th:only-of-type {\n",
       "        vertical-align: middle;\n",
       "    }\n",
       "\n",
       "    .dataframe tbody tr th {\n",
       "        vertical-align: top;\n",
       "    }\n",
       "\n",
       "    .dataframe thead th {\n",
       "        text-align: right;\n",
       "    }\n",
       "</style>\n",
       "<table border=\"1\" class=\"dataframe\">\n",
       "  <thead>\n",
       "    <tr style=\"text-align: right;\">\n",
       "      <th></th>\n",
       "      <th>type</th>\n",
       "      <th>locality</th>\n",
       "      <th>latitude</th>\n",
       "      <th>longitude</th>\n",
       "      <th>lease_type</th>\n",
       "      <th>gym</th>\n",
       "      <th>lift</th>\n",
       "      <th>swimming_pool</th>\n",
       "      <th>negotiable</th>\n",
       "      <th>furnishing</th>\n",
       "      <th>...</th>\n",
       "      <th>SERVANT</th>\n",
       "      <th>SECURITY</th>\n",
       "      <th>SC</th>\n",
       "      <th>GP</th>\n",
       "      <th>PARK</th>\n",
       "      <th>RWH</th>\n",
       "      <th>STP</th>\n",
       "      <th>HK</th>\n",
       "      <th>PB</th>\n",
       "      <th>VP</th>\n",
       "    </tr>\n",
       "  </thead>\n",
       "  <tbody>\n",
       "    <tr>\n",
       "      <th>0</th>\n",
       "      <td>1</td>\n",
       "      <td>1061</td>\n",
       "      <td>12.936601</td>\n",
       "      <td>77.576914</td>\n",
       "      <td>3</td>\n",
       "      <td>0</td>\n",
       "      <td>0</td>\n",
       "      <td>0</td>\n",
       "      <td>0</td>\n",
       "      <td>2</td>\n",
       "      <td>...</td>\n",
       "      <td>0.0</td>\n",
       "      <td>0.0</td>\n",
       "      <td>0.0</td>\n",
       "      <td>0.0</td>\n",
       "      <td>0.0</td>\n",
       "      <td>0.0</td>\n",
       "      <td>0.0</td>\n",
       "      <td>0.0</td>\n",
       "      <td>0.0</td>\n",
       "      <td>0.0</td>\n",
       "    </tr>\n",
       "    <tr>\n",
       "      <th>1</th>\n",
       "      <td>1</td>\n",
       "      <td>419</td>\n",
       "      <td>12.997989</td>\n",
       "      <td>77.545219</td>\n",
       "      <td>3</td>\n",
       "      <td>0</td>\n",
       "      <td>0</td>\n",
       "      <td>0</td>\n",
       "      <td>1</td>\n",
       "      <td>2</td>\n",
       "      <td>...</td>\n",
       "      <td>0.0</td>\n",
       "      <td>0.0</td>\n",
       "      <td>1.0</td>\n",
       "      <td>0.0</td>\n",
       "      <td>1.0</td>\n",
       "      <td>0.0</td>\n",
       "      <td>0.0</td>\n",
       "      <td>0.0</td>\n",
       "      <td>0.0</td>\n",
       "      <td>0.0</td>\n",
       "    </tr>\n",
       "    <tr>\n",
       "      <th>2</th>\n",
       "      <td>2</td>\n",
       "      <td>1027</td>\n",
       "      <td>12.935696</td>\n",
       "      <td>77.587642</td>\n",
       "      <td>3</td>\n",
       "      <td>0</td>\n",
       "      <td>1</td>\n",
       "      <td>0</td>\n",
       "      <td>0</td>\n",
       "      <td>2</td>\n",
       "      <td>...</td>\n",
       "      <td>0.0</td>\n",
       "      <td>1.0</td>\n",
       "      <td>1.0</td>\n",
       "      <td>1.0</td>\n",
       "      <td>1.0</td>\n",
       "      <td>1.0</td>\n",
       "      <td>0.0</td>\n",
       "      <td>0.0</td>\n",
       "      <td>1.0</td>\n",
       "      <td>0.0</td>\n",
       "    </tr>\n",
       "    <tr>\n",
       "      <th>3</th>\n",
       "      <td>1</td>\n",
       "      <td>1443</td>\n",
       "      <td>12.953507</td>\n",
       "      <td>77.656118</td>\n",
       "      <td>3</td>\n",
       "      <td>0</td>\n",
       "      <td>1</td>\n",
       "      <td>0</td>\n",
       "      <td>1</td>\n",
       "      <td>2</td>\n",
       "      <td>...</td>\n",
       "      <td>0.0</td>\n",
       "      <td>0.0</td>\n",
       "      <td>0.0</td>\n",
       "      <td>1.0</td>\n",
       "      <td>0.0</td>\n",
       "      <td>0.0</td>\n",
       "      <td>0.0</td>\n",
       "      <td>0.0</td>\n",
       "      <td>1.0</td>\n",
       "      <td>1.0</td>\n",
       "    </tr>\n",
       "    <tr>\n",
       "      <th>4</th>\n",
       "      <td>1</td>\n",
       "      <td>2084</td>\n",
       "      <td>12.968520</td>\n",
       "      <td>77.742436</td>\n",
       "      <td>0</td>\n",
       "      <td>1</td>\n",
       "      <td>1</td>\n",
       "      <td>1</td>\n",
       "      <td>1</td>\n",
       "      <td>2</td>\n",
       "      <td>...</td>\n",
       "      <td>1.0</td>\n",
       "      <td>1.0</td>\n",
       "      <td>1.0</td>\n",
       "      <td>0.0</td>\n",
       "      <td>1.0</td>\n",
       "      <td>1.0</td>\n",
       "      <td>1.0</td>\n",
       "      <td>1.0</td>\n",
       "      <td>1.0</td>\n",
       "      <td>1.0</td>\n",
       "    </tr>\n",
       "  </tbody>\n",
       "</table>\n",
       "<p>5 rows × 39 columns</p>\n",
       "</div>"
      ],
      "text/plain": [
       "   type  locality   latitude  longitude  lease_type  gym  lift  swimming_pool  \\\n",
       "0     1      1061  12.936601  77.576914           3    0     0              0   \n",
       "1     1       419  12.997989  77.545219           3    0     0              0   \n",
       "2     2      1027  12.935696  77.587642           3    0     1              0   \n",
       "3     1      1443  12.953507  77.656118           3    0     1              0   \n",
       "4     1      2084  12.968520  77.742436           0    1     1              1   \n",
       "\n",
       "   negotiable  furnishing  ...  SERVANT  SECURITY   SC   GP  PARK  RWH  STP  \\\n",
       "0           0           2  ...      0.0       0.0  0.0  0.0   0.0  0.0  0.0   \n",
       "1           1           2  ...      0.0       0.0  1.0  0.0   1.0  0.0  0.0   \n",
       "2           0           2  ...      0.0       1.0  1.0  1.0   1.0  1.0  0.0   \n",
       "3           1           2  ...      0.0       0.0  0.0  1.0   0.0  0.0  0.0   \n",
       "4           1           2  ...      1.0       1.0  1.0  0.0   1.0  1.0  1.0   \n",
       "\n",
       "    HK   PB   VP  \n",
       "0  0.0  0.0  0.0  \n",
       "1  0.0  0.0  0.0  \n",
       "2  0.0  1.0  0.0  \n",
       "3  0.0  1.0  1.0  \n",
       "4  1.0  1.0  1.0  \n",
       "\n",
       "[5 rows x 39 columns]"
      ]
     },
     "execution_count": 27,
     "metadata": {},
     "output_type": "execute_result"
    }
   ],
   "source": [
    "data.head()"
   ]
  },
  {
   "cell_type": "code",
   "execution_count": 28,
   "metadata": {},
   "outputs": [
    {
     "name": "stderr",
     "output_type": "stream",
     "text": [
      "C:\\Users\\hp\\Anaconda3\\lib\\site-packages\\sklearn\\ensemble\\forest.py:246: FutureWarning: The default value of n_estimators will change from 10 in version 0.20 to 100 in 0.22.\n",
      "  \"10 in version 0.20 to 100 in 0.22.\", FutureWarning)\n"
     ]
    },
    {
     "name": "stdout",
     "output_type": "stream",
     "text": [
      "[0.02592357 0.06786597 0.07094585 0.07632187 0.02555196 0.0064257\n",
      " 0.00691487 0.00494366 0.01964454 0.0131961  0.02137852 0.07178096\n",
      " 0.06287817 0.0214614  0.04806117 0.04080113 0.05056584 0.05245103\n",
      " 0.03724259 0.01946334 0.03892587 0.02657867 0.00570052 0.00570685\n",
      " 0.00861467 0.01589751 0.00917419 0.00446148 0.01181025 0.026514\n",
      " 0.00944714 0.02469122 0.01809032 0.01376716 0.01293287 0.00728594\n",
      " 0.01658312]\n"
     ]
    },
    {
     "data": {
      "image/png": "[encoded data removed]",
      "text/plain": [
       "<Figure size 1080x720 with 1 Axes>"
      ]
     },
     "metadata": {
      "needs_background": "light"
     },
     "output_type": "display_data"
    }
   ],
   "source": [
    "#Using ExtraTreesClassifier for predicting the importance of features for rent determination\n",
    "pt.figure(figsize=(15,10))\n",
    "x=data.drop(['rent','deposit'],axis=1)\n",
    "y=data['rent']\n",
    "model=ExtraTreesClassifier()\n",
    "model.fit(x,y)\n",
    "print(model.feature_importances_)\n",
    "feat_importances=pd.Series(model.feature_importances_,index=x.columns)\n",
    "feat_importances.nlargest(37).plot(kind='barh') #37 columns in total in x\n",
    "pt.show()"
   ]
  },
  {
   "cell_type": "code",
   "execution_count": 29,
   "metadata": {},
   "outputs": [],
   "source": [
    "#plotting various plots for understanding features"
   ]
  },
  {
   "cell_type": "code",
   "execution_count": 30,
   "metadata": {},
   "outputs": [
    {
     "data": {
      "image/png": "[encoded data removed]",
      "text/plain": [
       "<Figure size 432x288 with 1 Axes>"
      ]
     },
     "metadata": {
      "needs_background": "light"
     },
     "output_type": "display_data"
    }
   ],
   "source": [
    "sns.distplot(data['longitude'], bins=4)\n",
    "pt.show()"
   ]
  },
  {
   "cell_type": "code",
   "execution_count": 31,
   "metadata": {},
   "outputs": [
    {
     "data": {
      "image/png": "[encoded data removed]",
      "text/plain": [
       "<Figure size 432x288 with 1 Axes>"
      ]
     },
     "metadata": {
      "needs_background": "light"
     },
     "output_type": "display_data"
    }
   ],
   "source": [
    "sns.distplot(data['latitude'], bins=10)\n",
    "pt.show()"
   ]
  },
  {
   "cell_type": "code",
   "execution_count": 32,
   "metadata": {},
   "outputs": [
    {
     "data": {
      "text/plain": [
       "<matplotlib.axes._subplots.AxesSubplot at 0x1daecd93940>"
      ]
     },
     "execution_count": 32,
     "metadata": {},
     "output_type": "execute_result"
    },
    {
     "data": {
      "image/png": "[encoded data removed]",
      "text/plain": [
       "<Figure size 432x288 with 1 Axes>"
      ]
     },
     "metadata": {
      "needs_background": "light"
     },
     "output_type": "display_data"
    }
   ],
   "source": [
    "sns.countplot(x='facing',data=data)"
   ]
  },
  {
   "cell_type": "code",
   "execution_count": 33,
   "metadata": {},
   "outputs": [
    {
     "data": {
      "text/plain": [
       "<matplotlib.axes._subplots.AxesSubplot at 0x1daecc58978>"
      ]
     },
     "execution_count": 33,
     "metadata": {},
     "output_type": "execute_result"
    },
    {
     "data": {
      "image/png": "[encoded data removed]",
      "text/plain": [
       "<Figure size 720x216 with 1 Axes>"
      ]
     },
     "metadata": {
      "needs_background": "light"
     },
     "output_type": "display_data"
    }
   ],
   "source": [
    "pt.figure(figsize=(10,3))\n",
    "sns.countplot(x='floor',data=data)"
   ]
  },
  {
   "cell_type": "code",
   "execution_count": 34,
   "metadata": {},
   "outputs": [
    {
     "data": {
      "text/plain": [
       "<matplotlib.axes._subplots.AxesSubplot at 0x1daeca83668>"
      ]
     },
     "execution_count": 34,
     "metadata": {},
     "output_type": "execute_result"
    },
    {
     "data": {
      "image/png": "[encoded data removed]",
      "text/plain": [
       "<Figure size 720x216 with 1 Axes>"
      ]
     },
     "metadata": {
      "needs_background": "light"
     },
     "output_type": "display_data"
    }
   ],
   "source": [
    "pt.figure(figsize=(10,3))\n",
    "sns.countplot(x='cup_board',data=data)"
   ]
  },
  {
   "cell_type": "code",
   "execution_count": 35,
   "metadata": {},
   "outputs": [
    {
     "data": {
      "text/plain": [
       "<matplotlib.axes._subplots.AxesSubplot at 0x1daece784a8>"
      ]
     },
     "execution_count": 35,
     "metadata": {},
     "output_type": "execute_result"
    },
    {
     "data": {
      "image/png": "[encoded data removed]",
      "text/plain": [
       "<Figure size 720x216 with 1 Axes>"
      ]
     },
     "metadata": {
      "needs_background": "light"
     },
     "output_type": "display_data"
    }
   ],
   "source": [
    "pt.figure(figsize=(10,3))\n",
    "sns.countplot(x='balconies',data=data)"
   ]
  },
  {
   "cell_type": "code",
   "execution_count": 36,
   "metadata": {},
   "outputs": [
    {
     "data": {
      "text/plain": [
       "<matplotlib.axes._subplots.AxesSubplot at 0x1daece25c18>"
      ]
     },
     "execution_count": 36,
     "metadata": {},
     "output_type": "execute_result"
    },
    {
     "data": {
      "image/png": "[encoded data removed]",
      "text/plain": [
       "<Figure size 432x288 with 1 Axes>"
      ]
     },
     "metadata": {
      "needs_background": "light"
     },
     "output_type": "display_data"
    }
   ],
   "source": [
    "sns.countplot(x='water_supply',data=data)"
   ]
  },
  {
   "cell_type": "code",
   "execution_count": 37,
   "metadata": {},
   "outputs": [
    {
     "data": {
      "text/plain": [
       "<matplotlib.axes._subplots.AxesSubplot at 0x1daecd79668>"
      ]
     },
     "execution_count": 37,
     "metadata": {},
     "output_type": "execute_result"
    },
    {
     "data": {
      "image/png": "[encoded data removed]",
      "text/plain": [
       "<Figure size 432x288 with 1 Axes>"
      ]
     },
     "metadata": {
      "needs_background": "light"
     },
     "output_type": "display_data"
    }
   ],
   "source": [
    "sns.countplot(x='negotiable',data=data)"
   ]
  },
  {
   "cell_type": "code",
   "execution_count": 38,
   "metadata": {},
   "outputs": [
    {
     "data": {
      "text/plain": [
       "<matplotlib.axes._subplots.AxesSubplot at 0x1daeccd3ba8>"
      ]
     },
     "execution_count": 38,
     "metadata": {},
     "output_type": "execute_result"
    },
    {
     "data": {
      "image/png": "[encoded data removed]",
      "text/plain": [
       "<Figure size 432x288 with 1 Axes>"
      ]
     },
     "metadata": {
      "needs_background": "light"
     },
     "output_type": "display_data"
    }
   ],
   "source": [
    "sns.countplot(x='gym',data=data)"
   ]
  },
  {
   "cell_type": "code",
   "execution_count": 39,
   "metadata": {},
   "outputs": [
    {
     "data": {
      "text/plain": [
       "<matplotlib.axes._subplots.AxesSubplot at 0x1daecc7b198>"
      ]
     },
     "execution_count": 39,
     "metadata": {},
     "output_type": "execute_result"
    },
    {
     "data": {
      "image/png": "[encoded data removed]",
      "text/plain": [
       "<Figure size 432x288 with 1 Axes>"
      ]
     },
     "metadata": {
      "needs_background": "light"
     },
     "output_type": "display_data"
    }
   ],
   "source": [
    "sns.countplot(x='lift',data=data)"
   ]
  },
  {
   "cell_type": "code",
   "execution_count": 40,
   "metadata": {},
   "outputs": [
    {
     "data": {
      "text/plain": [
       "<matplotlib.axes._subplots.AxesSubplot at 0x1daf2872860>"
      ]
     },
     "execution_count": 40,
     "metadata": {},
     "output_type": "execute_result"
    },
    {
     "data": {
      "image/png": "[encoded data removed]",
      "text/plain": [
       "<Figure size 432x288 with 1 Axes>"
      ]
     },
     "metadata": {
      "needs_background": "light"
     },
     "output_type": "display_data"
    }
   ],
   "source": [
    "sns.countplot(x='swimming_pool',data=data)"
   ]
  },
  {
   "cell_type": "code",
   "execution_count": 41,
   "metadata": {},
   "outputs": [],
   "source": [
    "#swimming pool present in approx 16% of property"
   ]
  },
  {
   "cell_type": "code",
   "execution_count": 42,
   "metadata": {},
   "outputs": [
    {
     "data": {
      "text/plain": [
       "<matplotlib.axes._subplots.AxesSubplot at 0x1daeab808d0>"
      ]
     },
     "execution_count": 42,
     "metadata": {},
     "output_type": "execute_result"
    },
    {
     "data": {
      "image/png": "[encoded data removed]",
      "text/plain": [
       "<Figure size 432x288 with 1 Axes>"
      ]
     },
     "metadata": {
      "needs_background": "light"
     },
     "output_type": "display_data"
    }
   ],
   "source": [
    "sns.countplot(x='INTERNET',data=data)"
   ]
  },
  {
   "cell_type": "code",
   "execution_count": 43,
   "metadata": {},
   "outputs": [
    {
     "data": {
      "text/plain": [
       "<matplotlib.axes._subplots.AxesSubplot at 0x1daea2b1dd8>"
      ]
     },
     "execution_count": 43,
     "metadata": {},
     "output_type": "execute_result"
    },
    {
     "data": {
      "image/png": "[encoded data removed]",
      "text/plain": [
       "<Figure size 432x288 with 1 Axes>"
      ]
     },
     "metadata": {
      "needs_background": "light"
     },
     "output_type": "display_data"
    }
   ],
   "source": [
    "sns.countplot(x='AC',data=data)"
   ]
  },
  {
   "cell_type": "code",
   "execution_count": 44,
   "metadata": {},
   "outputs": [],
   "source": [
    "#AC present in approx 4% of property"
   ]
  },
  {
   "cell_type": "code",
   "execution_count": 45,
   "metadata": {},
   "outputs": [
    {
     "data": {
      "text/plain": [
       "<matplotlib.axes._subplots.AxesSubplot at 0x1dae82cb4a8>"
      ]
     },
     "execution_count": 45,
     "metadata": {},
     "output_type": "execute_result"
    },
    {
     "data": {
      "image/png": "[encoded data removed]",
      "text/plain": [
       "<Figure size 432x288 with 1 Axes>"
      ]
     },
     "metadata": {
      "needs_background": "light"
     },
     "output_type": "display_data"
    }
   ],
   "source": [
    "sns.countplot(x='CLUB',data=data)"
   ]
  },
  {
   "cell_type": "code",
   "execution_count": 46,
   "metadata": {},
   "outputs": [
    {
     "data": {
      "text/plain": [
       "<matplotlib.axes._subplots.AxesSubplot at 0x1daea2da668>"
      ]
     },
     "execution_count": 46,
     "metadata": {},
     "output_type": "execute_result"
    },
    {
     "data": {
      "image/png": "[encoded data removed]",
      "text/plain": [
       "<Figure size 432x288 with 1 Axes>"
      ]
     },
     "metadata": {
      "needs_background": "light"
     },
     "output_type": "display_data"
    }
   ],
   "source": [
    "sns.countplot(x='INTERCOM',data=data)"
   ]
  },
  {
   "cell_type": "code",
   "execution_count": 47,
   "metadata": {},
   "outputs": [
    {
     "data": {
      "text/plain": [
       "<matplotlib.axes._subplots.AxesSubplot at 0x1daecfecfd0>"
      ]
     },
     "execution_count": 47,
     "metadata": {},
     "output_type": "execute_result"
    },
    {
     "data": {
      "image/png": "[encoded data removed]",
      "text/plain": [
       "<Figure size 432x288 with 1 Axes>"
      ]
     },
     "metadata": {
      "needs_background": "light"
     },
     "output_type": "display_data"
    }
   ],
   "source": [
    "#CPA- COnsumer Protection Act decides whether property to given for residential or business purpose\n",
    "sns.countplot(x='CPA',data=data)"
   ]
  },
  {
   "cell_type": "code",
   "execution_count": 48,
   "metadata": {},
   "outputs": [
    {
     "data": {
      "text/plain": [
       "<matplotlib.axes._subplots.AxesSubplot at 0x1daed083278>"
      ]
     },
     "execution_count": 48,
     "metadata": {},
     "output_type": "execute_result"
    },
    {
     "data": {
      "image/png": "[encoded data removed]",
      "text/plain": [
       "<Figure size 432x288 with 1 Axes>"
      ]
     },
     "metadata": {
      "needs_background": "light"
     },
     "output_type": "display_data"
    }
   ],
   "source": [
    "#FS-Full service (rental rates quoted with full service)\n",
    "sns.countplot(x='FS',data=data)"
   ]
  },
  {
   "cell_type": "code",
   "execution_count": 49,
   "metadata": {},
   "outputs": [
    {
     "data": {
      "text/plain": [
       "<matplotlib.axes._subplots.AxesSubplot at 0x1daeb35fd30>"
      ]
     },
     "execution_count": 49,
     "metadata": {},
     "output_type": "execute_result"
    },
    {
     "data": {
      "image/png": "[encoded data removed]",
      "text/plain": [
       "<Figure size 432x288 with 1 Axes>"
      ]
     },
     "metadata": {
      "needs_background": "light"
     },
     "output_type": "display_data"
    }
   ],
   "source": [
    "sns.countplot(x='SERVANT',data=data)"
   ]
  },
  {
   "cell_type": "code",
   "execution_count": 50,
   "metadata": {},
   "outputs": [],
   "source": [
    "#Servant present in approx 4% of property\n",
    "#drop this as initially also approx 5% null values were there in it"
   ]
  },
  {
   "cell_type": "code",
   "execution_count": 51,
   "metadata": {},
   "outputs": [
    {
     "data": {
      "text/plain": [
       "<matplotlib.axes._subplots.AxesSubplot at 0x1daeccb1f60>"
      ]
     },
     "execution_count": 51,
     "metadata": {},
     "output_type": "execute_result"
    },
    {
     "data": {
      "image/png": "[encoded data removed]",
      "text/plain": [
       "<Figure size 432x288 with 1 Axes>"
      ]
     },
     "metadata": {
      "needs_background": "light"
     },
     "output_type": "display_data"
    }
   ],
   "source": [
    "sns.countplot(x='SECURITY',data=data)"
   ]
  },
  {
   "cell_type": "code",
   "execution_count": 52,
   "metadata": {},
   "outputs": [
    {
     "data": {
      "text/plain": [
       "<matplotlib.axes._subplots.AxesSubplot at 0x1dae9009b70>"
      ]
     },
     "execution_count": 52,
     "metadata": {},
     "output_type": "execute_result"
    },
    {
     "data": {
      "image/png": "[encoded data removed]",
      "text/plain": [
       "<Figure size 432x288 with 1 Axes>"
      ]
     },
     "metadata": {
      "needs_background": "light"
     },
     "output_type": "display_data"
    }
   ],
   "source": [
    "#SC- Settled possession of property\n",
    "sns.countplot(x='SC',data=data)"
   ]
  },
  {
   "cell_type": "code",
   "execution_count": 53,
   "metadata": {},
   "outputs": [
    {
     "data": {
      "text/plain": [
       "<matplotlib.axes._subplots.AxesSubplot at 0x1daeb8dea90>"
      ]
     },
     "execution_count": 53,
     "metadata": {},
     "output_type": "execute_result"
    },
    {
     "data": {
      "image/png": "[encoded data removed]",
      "text/plain": [
       "<Figure size 432x288 with 1 Axes>"
      ]
     },
     "metadata": {
      "needs_background": "light"
     },
     "output_type": "display_data"
    }
   ],
   "source": [
    "#GP-General Public Scheme Houses\n",
    "sns.countplot(x='GP',data=data)"
   ]
  },
  {
   "cell_type": "code",
   "execution_count": 54,
   "metadata": {},
   "outputs": [],
   "source": [
    "#GP present in approx 10% of property"
   ]
  },
  {
   "cell_type": "code",
   "execution_count": 55,
   "metadata": {},
   "outputs": [
    {
     "data": {
      "text/plain": [
       "<matplotlib.axes._subplots.AxesSubplot at 0x1daea918e80>"
      ]
     },
     "execution_count": 55,
     "metadata": {},
     "output_type": "execute_result"
    },
    {
     "data": {
      "image/png": "[encoded data removed]",
      "text/plain": [
       "<Figure size 432x288 with 1 Axes>"
      ]
     },
     "metadata": {
      "needs_background": "light"
     },
     "output_type": "display_data"
    }
   ],
   "source": [
    "sns.countplot(x='PARK',data=data)"
   ]
  },
  {
   "cell_type": "code",
   "execution_count": 56,
   "metadata": {},
   "outputs": [
    {
     "data": {
      "text/plain": [
       "<matplotlib.axes._subplots.AxesSubplot at 0x1daecc1c278>"
      ]
     },
     "execution_count": 56,
     "metadata": {},
     "output_type": "execute_result"
    },
    {
     "data": {
      "image/png": "[encoded data removed]",
      "text/plain": [
       "<Figure size 432x288 with 1 Axes>"
      ]
     },
     "metadata": {
      "needs_background": "light"
     },
     "output_type": "display_data"
    }
   ],
   "source": [
    "#RWH-Rainwater Harvesting System\n",
    "sns.countplot(x='RWH',data=data)"
   ]
  },
  {
   "cell_type": "code",
   "execution_count": 57,
   "metadata": {},
   "outputs": [],
   "source": [
    "#RWH present in approx 25% of property"
   ]
  },
  {
   "cell_type": "code",
   "execution_count": 58,
   "metadata": {},
   "outputs": [
    {
     "data": {
      "text/plain": [
       "<matplotlib.axes._subplots.AxesSubplot at 0x1daeb381518>"
      ]
     },
     "execution_count": 58,
     "metadata": {},
     "output_type": "execute_result"
    },
    {
     "data": {
      "image/png": "[encoded data removed]",
      "text/plain": [
       "<Figure size 432x288 with 1 Axes>"
      ]
     },
     "metadata": {
      "needs_background": "light"
     },
     "output_type": "display_data"
    }
   ],
   "source": [
    "#STP-Sewage Treatment Plant\n",
    "sns.countplot(x='STP',data=data)"
   ]
  },
  {
   "cell_type": "code",
   "execution_count": 59,
   "metadata": {},
   "outputs": [],
   "source": [
    "#STP present in approx 15% of property"
   ]
  },
  {
   "cell_type": "code",
   "execution_count": 60,
   "metadata": {},
   "outputs": [
    {
     "data": {
      "text/plain": [
       "<matplotlib.axes._subplots.AxesSubplot at 0x1daeb0e2390>"
      ]
     },
     "execution_count": 60,
     "metadata": {},
     "output_type": "execute_result"
    },
    {
     "data": {
      "image/png": "[encoded data removed]",
      "text/plain": [
       "<Figure size 432x288 with 1 Axes>"
      ]
     },
     "metadata": {
      "needs_background": "light"
     },
     "output_type": "display_data"
    }
   ],
   "source": [
    "#HK-property tax by Hong Kong govn\n",
    "sns.countplot(x='HK',data=data)"
   ]
  },
  {
   "cell_type": "code",
   "execution_count": 61,
   "metadata": {},
   "outputs": [],
   "source": [
    "#HK present in approx 18% of property"
   ]
  },
  {
   "cell_type": "code",
   "execution_count": 62,
   "metadata": {},
   "outputs": [
    {
     "data": {
      "text/plain": [
       "<matplotlib.axes._subplots.AxesSubplot at 0x1daeae3d780>"
      ]
     },
     "execution_count": 62,
     "metadata": {},
     "output_type": "execute_result"
    },
    {
     "data": {
      "image/png": "[encoded data removed]",
      "text/plain": [
       "<Figure size 432x288 with 1 Axes>"
      ]
     },
     "metadata": {
      "needs_background": "light"
     },
     "output_type": "display_data"
    }
   ],
   "source": [
    "#PB- Property has offer but seller still looking for back-up offers\n",
    "sns.countplot(x='PB',data=data)"
   ]
  },
  {
   "cell_type": "code",
   "execution_count": 63,
   "metadata": {},
   "outputs": [],
   "source": [
    "#PB present in approx 36% of property"
   ]
  },
  {
   "cell_type": "code",
   "execution_count": 64,
   "metadata": {},
   "outputs": [
    {
     "data": {
      "text/plain": [
       "<matplotlib.axes._subplots.AxesSubplot at 0x1daeb376748>"
      ]
     },
     "execution_count": 64,
     "metadata": {},
     "output_type": "execute_result"
    },
    {
     "data": {
      "image/png": "[encoded data removed]",
      "text/plain": [
       "<Figure size 432x288 with 1 Axes>"
      ]
     },
     "metadata": {
      "needs_background": "light"
     },
     "output_type": "display_data"
    }
   ],
   "source": [
    "#VP-Vacanat Possession\n",
    "sns.countplot(x='VP',data=data)"
   ]
  },
  {
   "cell_type": "code",
   "execution_count": 65,
   "metadata": {},
   "outputs": [],
   "source": [
    "#VP present in approx 24% of property"
   ]
  },
  {
   "cell_type": "markdown",
   "metadata": {},
   "source": [
    "DEVELOPING MODEL"
   ]
  },
  {
   "cell_type": "code",
   "execution_count": 66,
   "metadata": {},
   "outputs": [],
   "source": [
    "#Linear Regression"
   ]
  },
  {
   "cell_type": "code",
   "execution_count": 67,
   "metadata": {},
   "outputs": [],
   "source": [
    "#implementing Linear Regression without dropping any feature\n",
    "X=data.drop(['rent','deposit'],axis=1)\n",
    "Y=data['rent']"
   ]
  },
  {
   "cell_type": "code",
   "execution_count": 68,
   "metadata": {},
   "outputs": [],
   "source": [
    "X_train, X_test, y_train, y_test = train_test_split(X,Y, test_size = 0.1,random_state =10)"
   ]
  },
  {
   "cell_type": "code",
   "execution_count": 69,
   "metadata": {},
   "outputs": [],
   "source": [
    "reg=LinearRegression()"
   ]
  },
  {
   "cell_type": "code",
   "execution_count": 70,
   "metadata": {
    "scrolled": true
   },
   "outputs": [
    {
     "data": {
      "text/plain": [
       "LinearRegression(copy_X=True, fit_intercept=True, n_jobs=None,\n",
       "         normalize=False)"
      ]
     },
     "execution_count": 70,
     "metadata": {},
     "output_type": "execute_result"
    }
   ],
   "source": [
    "reg.fit(X_train,y_train)"
   ]
  },
  {
   "cell_type": "code",
   "execution_count": 71,
   "metadata": {},
   "outputs": [],
   "source": [
    "pdt = reg.predict(X_test)"
   ]
  },
  {
   "cell_type": "code",
   "execution_count": 72,
   "metadata": {},
   "outputs": [
    {
     "name": "stdout",
     "output_type": "stream",
     "text": [
      "65.90802103858617\n"
     ]
    }
   ],
   "source": [
    "score = reg.score(X_test,y_test)\n",
    "print(score*100)"
   ]
  },
  {
   "cell_type": "code",
   "execution_count": 73,
   "metadata": {},
   "outputs": [
    {
     "name": "stdout",
     "output_type": "stream",
     "text": [
      "Mean Absolute Error: 3709.6939929122022\n",
      "Mean Squared Error: 25679547.911282428\n",
      "Root Mean Squared Error: 5067.499177235496\n"
     ]
    }
   ],
   "source": [
    "print('Mean Absolute Error:', metrics.mean_absolute_error(y_test, pdt))  \n",
    "print('Mean Squared Error:', metrics.mean_squared_error(y_test, pdt))  \n",
    "print('Root Mean Squared Error:', np.sqrt(metrics.mean_squared_error(y_test, pdt)))  "
   ]
  },
  {
   "cell_type": "code",
   "execution_count": 74,
   "metadata": {},
   "outputs": [],
   "source": [
    "#IMPROVING MODEL BY DROPPING SERVANT"
   ]
  },
  {
   "cell_type": "code",
   "execution_count": 75,
   "metadata": {},
   "outputs": [],
   "source": [
    "X=data.drop(['SERVANT','rent','deposit'],axis=1)\n",
    "Y=data['rent']"
   ]
  },
  {
   "cell_type": "code",
   "execution_count": 76,
   "metadata": {},
   "outputs": [],
   "source": [
    "X_train, X_test, y_train, y_test = train_test_split(X,Y, test_size = 0.1,random_state =10)"
   ]
  },
  {
   "cell_type": "code",
   "execution_count": 77,
   "metadata": {},
   "outputs": [],
   "source": [
    "reg=LinearRegression()"
   ]
  },
  {
   "cell_type": "code",
   "execution_count": 78,
   "metadata": {},
   "outputs": [
    {
     "data": {
      "text/plain": [
       "LinearRegression(copy_X=True, fit_intercept=True, n_jobs=None,\n",
       "         normalize=False)"
      ]
     },
     "execution_count": 78,
     "metadata": {},
     "output_type": "execute_result"
    }
   ],
   "source": [
    "reg.fit(X_test,y_test)"
   ]
  },
  {
   "cell_type": "code",
   "execution_count": 79,
   "metadata": {},
   "outputs": [],
   "source": [
    "pdt = reg.predict(X_test)"
   ]
  },
  {
   "cell_type": "code",
   "execution_count": 80,
   "metadata": {},
   "outputs": [
    {
     "name": "stdout",
     "output_type": "stream",
     "text": [
      "70.50020156853101\n"
     ]
    }
   ],
   "source": [
    "score = reg.score(X_test,y_test)\n",
    "print(score*100)"
   ]
  },
  {
   "cell_type": "code",
   "execution_count": 81,
   "metadata": {},
   "outputs": [
    {
     "name": "stdout",
     "output_type": "stream",
     "text": [
      "Mean Absolute Error: 3421.903400028017\n",
      "Mean Squared Error: 22220519.614056043\n",
      "Root Mean Squared Error: 4713.8646155841225\n"
     ]
    }
   ],
   "source": [
    "print('Mean Absolute Error:', metrics.mean_absolute_error(y_test, pdt))  \n",
    "print('Mean Squared Error:', metrics.mean_squared_error(y_test, pdt))  \n",
    "print('Root Mean Squared Error:', np.sqrt(metrics.mean_squared_error(y_test, pdt)))  "
   ]
  },
  {
   "cell_type": "code",
   "execution_count": 82,
   "metadata": {},
   "outputs": [],
   "source": [
    "#USING Z-SCORE FOR DETECTING AND CLEANING OUTLIERS"
   ]
  },
  {
   "cell_type": "code",
   "execution_count": 83,
   "metadata": {},
   "outputs": [
    {
     "name": "stdout",
     "output_type": "stream",
     "text": [
      "[[0.18835766 0.08798073 0.31401199 ... 0.49868715 0.76208775 0.55991796]\n",
      " [0.18835766 1.18309072 1.75900464 ... 0.49868715 0.76208775 0.55991796]\n",
      " [0.89966023 0.14597721 0.34456018 ... 0.49868715 1.31218485 0.55991796]\n",
      " ...\n",
      " [1.27637555 0.36234488 1.57581586 ... 0.49868715 0.76208775 0.55991796]\n",
      " [1.27637555 1.30393478 0.49207796 ... 0.49868715 0.76208775 0.55991796]\n",
      " [0.18835766 0.53633432 0.03071757 ... 0.49868715 1.31218485 0.55991796]]\n"
     ]
    }
   ],
   "source": [
    "z = np.abs(stats.zscore(data))  #describing z score--abs used for making +ve values\n",
    "print(z)"
   ]
  },
  {
   "cell_type": "code",
   "execution_count": 84,
   "metadata": {},
   "outputs": [
    {
     "name": "stdout",
     "output_type": "stream",
     "text": [
      "(array([    4,     5,    10, ..., 24972, 24972, 24981], dtype=int64), array([29,  9, 29, ..., 21, 24, 29], dtype=int64))\n"
     ]
    }
   ],
   "source": [
    "threshold = 3\n",
    "print(np.where(z > 3))"
   ]
  },
  {
   "cell_type": "code",
   "execution_count": 85,
   "metadata": {},
   "outputs": [
    {
     "data": {
      "text/plain": [
       "(25000, 39)"
      ]
     },
     "execution_count": 85,
     "metadata": {},
     "output_type": "execute_result"
    }
   ],
   "source": [
    "data.shape"
   ]
  },
  {
   "cell_type": "code",
   "execution_count": 86,
   "metadata": {},
   "outputs": [],
   "source": [
    "#data= data[(z < 3).all(axis=1)] #to remove or filter the outliers and get the clean data."
   ]
  },
  {
   "cell_type": "code",
   "execution_count": 87,
   "metadata": {},
   "outputs": [
    {
     "data": {
      "text/plain": [
       "(25000, 39)"
      ]
     },
     "execution_count": 87,
     "metadata": {},
     "output_type": "execute_result"
    }
   ],
   "source": [
    "data.shape"
   ]
  },
  {
   "cell_type": "code",
   "execution_count": 88,
   "metadata": {},
   "outputs": [],
   "source": [
    "#Applying Linear Regression after removing outliers\n",
    "x=data.drop(['rent','deposit','SERVANT'],axis=1)\n",
    "y=data['rent']\n",
    "x_train, x_test, y_train, y_test= train_test_split(x, y,test_size = 0.1, random_state = 10)\n"
   ]
  },
  {
   "cell_type": "code",
   "execution_count": 89,
   "metadata": {},
   "outputs": [],
   "source": [
    "#lr=LinearRegression()\n",
    "#lr.fit(x_train,y_train)"
   ]
  },
  {
   "cell_type": "code",
   "execution_count": 90,
   "metadata": {},
   "outputs": [],
   "source": [
    "#pred=lr.predict(x_test)"
   ]
  },
  {
   "cell_type": "code",
   "execution_count": 91,
   "metadata": {},
   "outputs": [],
   "source": [
    "#print(metrics.mean_absolute_error(y_test,pred))\n",
    "#print(metrics.mean_squared_error(y_test,pred))\n",
    "#print(np.sqrt(metrics.mean_squared_error(y_test,pred)))\n",
    "#from sklearn.metrics import mean_squared_error, r2_score\n",
    "#print('Variance score: %.2f' % r2_score(y_test, pred))# r2 score should be greater"
   ]
  },
  {
   "cell_type": "code",
   "execution_count": 92,
   "metadata": {},
   "outputs": [],
   "source": [
    "#Thus, removing outliers did help to reduce mean absolute error"
   ]
  },
  {
   "cell_type": "code",
   "execution_count": 93,
   "metadata": {},
   "outputs": [],
   "source": [
    "#USING RANDOM FOREST REGRESSOR MODEL"
   ]
  },
  {
   "cell_type": "code",
   "execution_count": 94,
   "metadata": {},
   "outputs": [],
   "source": [
    "#dropping servant\n",
    "x=data.drop(['rent','deposit','SERVANT'],axis=1)\n",
    "y=data['rent']"
   ]
  },
  {
   "cell_type": "code",
   "execution_count": 95,
   "metadata": {},
   "outputs": [],
   "source": [
    "x_train, x_test, y_train, y_test = train_test_split(x, y, test_size = 0.2)"
   ]
  },
  {
   "cell_type": "code",
   "execution_count": 96,
   "metadata": {},
   "outputs": [
    {
     "name": "stderr",
     "output_type": "stream",
     "text": [
      "C:\\Users\\hp\\Anaconda3\\lib\\site-packages\\sklearn\\preprocessing\\data.py:645: DataConversionWarning: Data with input dtype int32, int64, float64 were all converted to float64 by StandardScaler.\n",
      "  return self.partial_fit(X, y)\n",
      "C:\\Users\\hp\\Anaconda3\\lib\\site-packages\\sklearn\\base.py:464: DataConversionWarning: Data with input dtype int32, int64, float64 were all converted to float64 by StandardScaler.\n",
      "  return self.fit(X, **fit_params).transform(X)\n",
      "C:\\Users\\hp\\Anaconda3\\lib\\site-packages\\sklearn\\preprocessing\\data.py:645: DataConversionWarning: Data with input dtype int32, int64, float64 were all converted to float64 by StandardScaler.\n",
      "  return self.partial_fit(X, y)\n",
      "C:\\Users\\hp\\Anaconda3\\lib\\site-packages\\sklearn\\base.py:464: DataConversionWarning: Data with input dtype int32, int64, float64 were all converted to float64 by StandardScaler.\n",
      "  return self.fit(X, **fit_params).transform(X)\n"
     ]
    }
   ],
   "source": [
    "scaler = StandardScaler()\n",
    "x_train_scaled = scaler.fit_transform(x_train)\n",
    "x_test_scaled = scaler.fit_transform(x_test)"
   ]
  },
  {
   "cell_type": "code",
   "execution_count": 97,
   "metadata": {},
   "outputs": [
    {
     "data": {
      "text/plain": [
       "RandomForestRegressor(bootstrap=True, criterion='mse', max_depth=None,\n",
       "           max_features='auto', max_leaf_nodes=None,\n",
       "           min_impurity_decrease=0.0, min_impurity_split=None,\n",
       "           min_samples_leaf=1, min_samples_split=2,\n",
       "           min_weight_fraction_leaf=0.0, n_estimators=45, n_jobs=None,\n",
       "           oob_score=False, random_state=None, verbose=0, warm_start=False)"
      ]
     },
     "execution_count": 97,
     "metadata": {},
     "output_type": "execute_result"
    }
   ],
   "source": [
    "clf = RandomForestRegressor(n_estimators=45)\n",
    "clf.fit(x_train, y_train)"
   ]
  },
  {
   "cell_type": "code",
   "execution_count": 98,
   "metadata": {},
   "outputs": [
    {
     "name": "stdout",
     "output_type": "stream",
     "text": [
      "81.41518278727118\n"
     ]
    }
   ],
   "source": [
    "score=clf.score(x_test,y_test)\n",
    "print(score*100)"
   ]
  },
  {
   "cell_type": "code",
   "execution_count": 99,
   "metadata": {},
   "outputs": [],
   "source": [
    "pred=clf.predict(x_test)"
   ]
  },
  {
   "cell_type": "code",
   "execution_count": 100,
   "metadata": {},
   "outputs": [
    {
     "name": "stdout",
     "output_type": "stream",
     "text": [
      "2555.9221199999997\n",
      "13377407.714760792\n",
      "3657.5138707543942\n"
     ]
    }
   ],
   "source": [
    "print(metrics.mean_absolute_error(y_test,pred))\n",
    "print(metrics.mean_squared_error(y_test,pred))\n",
    "print(np.sqrt(metrics.mean_squared_error(y_test,pred)))"
   ]
  },
  {
   "cell_type": "code",
   "execution_count": 101,
   "metadata": {},
   "outputs": [
    {
     "data": {
      "text/html": [
       "<div>\n",
       "<style scoped>\n",
       "    .dataframe tbody tr th:only-of-type {\n",
       "        vertical-align: middle;\n",
       "    }\n",
       "\n",
       "    .dataframe tbody tr th {\n",
       "        vertical-align: top;\n",
       "    }\n",
       "\n",
       "    .dataframe thead th {\n",
       "        text-align: right;\n",
       "    }\n",
       "</style>\n",
       "<table border=\"1\" class=\"dataframe\">\n",
       "  <thead>\n",
       "    <tr style=\"text-align: right;\">\n",
       "      <th></th>\n",
       "      <th>Actual</th>\n",
       "      <th>predicted</th>\n",
       "    </tr>\n",
       "  </thead>\n",
       "  <tbody>\n",
       "    <tr>\n",
       "      <th>18339</th>\n",
       "      <td>24000</td>\n",
       "      <td>21377.777778</td>\n",
       "    </tr>\n",
       "    <tr>\n",
       "      <th>6182</th>\n",
       "      <td>18000</td>\n",
       "      <td>15406.666667</td>\n",
       "    </tr>\n",
       "    <tr>\n",
       "      <th>3788</th>\n",
       "      <td>20000</td>\n",
       "      <td>19233.333333</td>\n",
       "    </tr>\n",
       "    <tr>\n",
       "      <th>6958</th>\n",
       "      <td>40000</td>\n",
       "      <td>39244.444444</td>\n",
       "    </tr>\n",
       "    <tr>\n",
       "      <th>23107</th>\n",
       "      <td>10000</td>\n",
       "      <td>9988.888889</td>\n",
       "    </tr>\n",
       "    <tr>\n",
       "      <th>20367</th>\n",
       "      <td>40000</td>\n",
       "      <td>20644.444444</td>\n",
       "    </tr>\n",
       "    <tr>\n",
       "      <th>7218</th>\n",
       "      <td>42000</td>\n",
       "      <td>38488.888889</td>\n",
       "    </tr>\n",
       "    <tr>\n",
       "      <th>17931</th>\n",
       "      <td>10000</td>\n",
       "      <td>9922.222222</td>\n",
       "    </tr>\n",
       "    <tr>\n",
       "      <th>5828</th>\n",
       "      <td>8000</td>\n",
       "      <td>8377.777778</td>\n",
       "    </tr>\n",
       "    <tr>\n",
       "      <th>13112</th>\n",
       "      <td>26000</td>\n",
       "      <td>27688.888889</td>\n",
       "    </tr>\n",
       "  </tbody>\n",
       "</table>\n",
       "</div>"
      ],
      "text/plain": [
       "       Actual     predicted\n",
       "18339   24000  21377.777778\n",
       "6182    18000  15406.666667\n",
       "3788    20000  19233.333333\n",
       "6958    40000  39244.444444\n",
       "23107   10000   9988.888889\n",
       "20367   40000  20644.444444\n",
       "7218    42000  38488.888889\n",
       "17931   10000   9922.222222\n",
       "5828     8000   8377.777778\n",
       "13112   26000  27688.888889"
      ]
     },
     "execution_count": 101,
     "metadata": {},
     "output_type": "execute_result"
    }
   ],
   "source": [
    "df=pd.DataFrame({'Actual':y_test,'predicted':pred})\n",
    "df.head(10)"
   ]
  },
  {
   "cell_type": "code",
   "execution_count": 102,
   "metadata": {},
   "outputs": [
    {
     "data": {
      "image/png": "[encoded data removed]",
      "text/plain": [
       "<Figure size 1080x720 with 1 Axes>"
      ]
     },
     "metadata": {
      "needs_background": "light"
     },
     "output_type": "display_data"
    }
   ],
   "source": [
    "pt.figure(figsize=(15,10))\n",
    "pt.scatter(y_test,pred)\n",
    "pt.xlabel('True Values')\n",
    "pt.ylabel('Predicted Values')\n",
    "pt.show()"
   ]
  },
  {
   "cell_type": "markdown",
   "metadata": {},
   "source": [
    "Thus, we get a maximum accuracy of 81.18% and mean absolute error of 2568.25 using Random Forest Regressor by dropping only deposit and SERVANT features and reatining all other features, thus providing maximum flexibility to features to customer."
   ]
  },
  {
   "cell_type": "code",
   "execution_count": 103,
   "metadata": {},
   "outputs": [],
   "source": [
    "import pickle"
   ]
  },
  {
   "cell_type": "code",
   "execution_count": 104,
   "metadata": {},
   "outputs": [],
   "source": [
    "pickle.dump(clf,open('model.pkl','wb'))"
   ]
  },
  {
   "cell_type": "code",
   "execution_count": 105,
   "metadata": {},
   "outputs": [],
   "source": [
    "model=pickle.load(open('model.pkl','rb'))"
   ]
  },
  {
   "cell_type": "code",
   "execution_count": null,
   "metadata": {},
   "outputs": [],
   "source": []
  }
 ],
 "metadata": {
  "kernelspec": {
   "display_name": "Python 3",
   "language": "python",
   "name": "python3"
  },
  "language_info": {
   "codemirror_mode": {
    "name": "ipython",
    "version": 3
   },
   "file_extension": ".py",
   "mimetype": "text/x-python",
   "name": "python",
   "nbconvert_exporter": "python",
   "pygments_lexer": "ipython3",
   "version": "3.7.3"
  }
 },
 "nbformat": 4,
 "nbformat_minor": 2
}
